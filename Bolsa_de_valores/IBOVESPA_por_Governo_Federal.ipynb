{
 "cells": [
  {
   "attachments": {},
   "cell_type": "markdown",
   "id": "b124acb7",
   "metadata": {},
   "source": [
    "<div style=\"color:white;display:fill;border-radius:8px;\n",
    "            background-color:#a7d5ed;font-size:170%;\n",
    "            font-family:Nexa;letter-spacing:4.5px;\">    \n",
    "    <h1 style=\"padding:10px;color:black;text-align: center\"> \n",
    "        Variação do IBOVESPA por Governo Federal </h1> \n",
    "</div>\n"
   ]
  },
  {
   "cell_type": "markdown",
   "id": "e449308c",
   "metadata": {},
   "source": [
    "O objetivo aqui é analisar a variação do IBOVESPA nos períodos dos governos federais desde a estabilização da moeda, o primeiro governo do FHC. Adicionalmente vou considerar a variação do índice deflacionado para entender o impacto da inflação na economia nestes períodos. Já calculei o IBOVESPA deflacionado no post. As contas são simples:\n",
    "\n",
    "- calcular os retornos do IBOVESPA mensais nos governos federais\n",
    "- calcular estes retornos descontados da inflação (uso o IPCA)\n",
    "- agrupar os retornos por períodos (governos federais) e calcular os retornos acumulados\n",
    "- calcular os retornos anualizado nos períodos para facilitar a comparação entre governos com períodos diferentes\n"
   ]
  },
  {
   "cell_type": "markdown",
   "id": "86d44d65",
   "metadata": {},
   "source": [
    "<div style=\"color:white;border-radius:8px;background-color:#a7d5ed\">    \n",
    "    <h1 style=\"padding:12px;color:black;\"> 1. IMPORTAÇÕES </h1>    \n",
    "</div>"
   ]
  },
  {
   "cell_type": "markdown",
   "id": "88cc010f",
   "metadata": {},
   "source": [
    "## 1.1. Instalações"
   ]
  },
  {
   "cell_type": "code",
   "execution_count": 1,
   "id": "3130bc97",
   "metadata": {
    "ExecuteTime": {
     "end_time": "2022-10-12T01:15:21.202491Z",
     "start_time": "2022-10-12T01:15:21.187490Z"
    }
   },
   "outputs": [],
   "source": [
    "COLAB = 'google.colab' in str(get_ipython()) \n",
    "\n",
    "if COLAB:        \n",
    "    !pip install quandl"
   ]
  },
  {
   "cell_type": "markdown",
   "id": "e33ccc88",
   "metadata": {},
   "source": [
    "## 1.2. Bibliotecas "
   ]
  },
  {
   "cell_type": "code",
   "execution_count": 2,
   "id": "fab331a5",
   "metadata": {
    "ExecuteTime": {
     "end_time": "2022-10-12T01:15:23.815829Z",
     "start_time": "2022-10-12T01:15:23.282675Z"
    }
   },
   "outputs": [],
   "source": [
    "import warnings\n",
    "import sklearn.exceptions\n",
    "import datetime"
   ]
  },
  {
   "cell_type": "code",
   "execution_count": 3,
   "id": "0a2eb2d5",
   "metadata": {
    "ExecuteTime": {
     "end_time": "2022-10-12T01:15:24.178827Z",
     "start_time": "2022-10-12T01:15:23.817826Z"
    }
   },
   "outputs": [],
   "source": [
    "import numpy             as np\n",
    "import pandas            as pd\n",
    "import quandl            as Quandl\n",
    "import matplotlib.pyplot as plt"
   ]
  },
  {
   "cell_type": "code",
   "execution_count": 4,
   "id": "b830dd0f",
   "metadata": {
    "ExecuteTime": {
     "end_time": "2022-10-12T01:15:24.226044Z",
     "start_time": "2022-10-12T01:15:24.210043Z"
    }
   },
   "outputs": [],
   "source": [
    "from matplotlib.axes._axes    import _log as matplotlib_axes_logger"
   ]
  },
  {
   "cell_type": "markdown",
   "id": "c8d3363a",
   "metadata": {},
   "source": [
    "## 1.3. Funções"
   ]
  },
  {
   "cell_type": "code",
   "execution_count": 5,
   "id": "a2454a25",
   "metadata": {
    "ExecuteTime": {
     "end_time": "2022-10-12T01:15:25.262062Z",
     "start_time": "2022-10-12T01:15:25.241826Z"
    },
    "code_folding": [
     0
    ]
   },
   "outputs": [],
   "source": [
    "def jupyter_setting():\n",
    "    \n",
    "    %matplotlib inline\n",
    "\n",
    "    #os.environ[\"WANDB_SILENT\"] = \"true\" \n",
    "    #plt.style.use('bmh') \n",
    "    #plt.rcParams['figure.figsize'] = [20,15]\n",
    "    #plt.rcParams['font.size']      = 13\n",
    "\n",
    "    matplotlib_axes_logger.setLevel('ERROR')\n",
    "\n",
    "    pd.options.display.max_columns = None\n",
    "    #pd.set_option('display.expand_frame_repr', False)\n",
    "\n",
    "    warnings.filterwarnings(action='ignore')\n",
    "    warnings.simplefilter('ignore')\n",
    "    warnings.filterwarnings('ignore')\n",
    "    warnings.filterwarnings('ignore', category=DeprecationWarning)\n",
    "    warnings.filterwarnings('ignore', category=FutureWarning)\n",
    "    warnings.filterwarnings('ignore', category=RuntimeWarning)\n",
    "    warnings.filterwarnings('ignore', category=UserWarning)\n",
    "    warnings.filterwarnings(\"ignore\", category=sklearn.exceptions.UndefinedMetricWarning)\n",
    "    warnings.filterwarnings(\"ignore\", category= sklearn.exceptions.UndefinedMetricWarning)\n",
    "    warnings.simplefilter(action=\"ignore\", category=pd.errors.PerformanceWarning)\n",
    "\n",
    "    pd.options.mode.chained_assignment = None \n",
    "    pd.set_option('display.max_rows', 200)\n",
    "    pd.set_option('display.max_columns', 500)\n",
    "    pd.set_option('display.max_colwidth', 200)\n",
    "\n",
    "    icecream = [\"#00008b\", \"#960018\",\"#008b00\", \"#00468b\", \"#8b4500\", \"#582c00\"]\n",
    "    #sns.palplot(sns.color_palette(icecream))\n",
    "\n",
    "    colors = [\"lightcoral\", \"sandybrown\", \"darkorange\", \"mediumseagreen\",\n",
    "          \"lightseagreen\", \"cornflowerblue\", \"mediumpurple\", \"palevioletred\",\n",
    "          \"lightskyblue\", \"sandybrown\", \"yellowgreen\", \"indianred\",\n",
    "          \"lightsteelblue\", \"mediumorchid\", \"deepskyblue\"]\n",
    "\n",
    "    # Colors\n",
    "    dark_red   = \"#b20710\"\n",
    "    black      = \"#221f1f\"\n",
    "    green      = \"#009473\"\n",
    "    myred      = '#CD5C5C'\n",
    "    myblue     = '#6495ED'\n",
    "    mygreen    = '#90EE90'    \n",
    "    color_cols = [myred, myblue,mygreen]\n",
    "\n",
    "    return icecream, colors, color_cols\n",
    "\n",
    "icecream, colors, color_cols = jupyter_setting()"
   ]
  },
  {
   "cell_type": "markdown",
   "id": "37897173",
   "metadata": {},
   "source": [
    "## 1.4. Dataset\n",
    "\n",
    "Vou começar baixando as séries de IPCA e IBOVESPA (mensal) via Quandl."
   ]
  },
  {
   "cell_type": "code",
   "execution_count": 6,
   "id": "906f8c1d",
   "metadata": {
    "ExecuteTime": {
     "end_time": "2022-10-12T01:15:27.950884Z",
     "start_time": "2022-10-12T01:15:26.746708Z"
    }
   },
   "outputs": [
    {
     "data": {
      "text/html": [
       "<div><div id=a28fdeeb-e6c4-42d2-b190-39998f2cd388 style=\"display:none; background-color:#9D6CFF; color:white; width:200px; height:30px; padding-left:5px; border-radius:4px; flex-direction:row; justify-content:space-around; align-items:center;\" onmouseover=\"this.style.backgroundColor='#BA9BF8'\" onmouseout=\"this.style.backgroundColor='#9D6CFF'\" onclick=\"window.commands?.execute('create-mitosheet-from-dataframe-output');\">See Full Dataframe in Mito</div> <script> if (window.commands?.hasCommand('create-mitosheet-from-dataframe-output')) document.getElementById('a28fdeeb-e6c4-42d2-b190-39998f2cd388').style.display = 'flex' </script> <table border=\"1\" class=\"dataframe\">\n",
       "  <thead>\n",
       "    <tr style=\"text-align: right;\">\n",
       "      <th></th>\n",
       "      <th>IPCA</th>\n",
       "      <th>IBOVESPA</th>\n",
       "    </tr>\n",
       "    <tr>\n",
       "      <th>Date</th>\n",
       "      <th></th>\n",
       "      <th></th>\n",
       "    </tr>\n",
       "  </thead>\n",
       "  <tbody>\n",
       "    <tr>\n",
       "      <th>1994-12-31</th>\n",
       "      <td>1.71</td>\n",
       "      <td>43539.0</td>\n",
       "    </tr>\n",
       "    <tr>\n",
       "      <th>1995-01-31</th>\n",
       "      <td>1.70</td>\n",
       "      <td>38850.0</td>\n",
       "    </tr>\n",
       "    <tr>\n",
       "      <th>1995-02-28</th>\n",
       "      <td>1.02</td>\n",
       "      <td>32708.0</td>\n",
       "    </tr>\n",
       "    <tr>\n",
       "      <th>1995-03-31</th>\n",
       "      <td>1.55</td>\n",
       "      <td>29789.0</td>\n",
       "    </tr>\n",
       "    <tr>\n",
       "      <th>1995-04-30</th>\n",
       "      <td>2.43</td>\n",
       "      <td>38137.0</td>\n",
       "    </tr>\n",
       "  </tbody>\n",
       "</table></div>"
      ],
      "text/plain": [
       "            IPCA  IBOVESPA\n",
       "Date                      \n",
       "1994-12-31  1.71   43539.0\n",
       "1995-01-31  1.70   38850.0\n",
       "1995-02-28  1.02   32708.0\n",
       "1995-03-31  1.55   29789.0\n",
       "1995-04-30  2.43   38137.0"
      ]
     },
     "execution_count": 6,
     "metadata": {},
     "output_type": "execute_result"
    }
   ],
   "source": [
    "df = Quandl.get([\"BCB/433\", \"BCB/7845\"], trim_start=\"1994-12-01\")\n",
    "df.columns = [\"IPCA\", \"IBOVESPA\"]\n",
    "df.head()"
   ]
  },
  {
   "cell_type": "code",
   "execution_count": 7,
   "id": "5fb282d0",
   "metadata": {
    "ExecuteTime": {
     "end_time": "2022-10-12T01:15:27.966856Z",
     "start_time": "2022-10-12T01:15:27.953869Z"
    }
   },
   "outputs": [
    {
     "data": {
      "text/html": [
       "<div><div id=7fd68634-87ca-4bc9-9790-4dddc15aae0a style=\"display:none; background-color:#9D6CFF; color:white; width:200px; height:30px; padding-left:5px; border-radius:4px; flex-direction:row; justify-content:space-around; align-items:center;\" onmouseover=\"this.style.backgroundColor='#BA9BF8'\" onmouseout=\"this.style.backgroundColor='#9D6CFF'\" onclick=\"window.commands?.execute('create-mitosheet-from-dataframe-output');\">See Full Dataframe in Mito</div> <script> if (window.commands?.hasCommand('create-mitosheet-from-dataframe-output')) document.getElementById('7fd68634-87ca-4bc9-9790-4dddc15aae0a').style.display = 'flex' </script> <table border=\"1\" class=\"dataframe\">\n",
       "  <thead>\n",
       "    <tr style=\"text-align: right;\">\n",
       "      <th></th>\n",
       "      <th>IPCA</th>\n",
       "      <th>IBOVESPA</th>\n",
       "    </tr>\n",
       "    <tr>\n",
       "      <th>Date</th>\n",
       "      <th></th>\n",
       "      <th></th>\n",
       "    </tr>\n",
       "  </thead>\n",
       "  <tbody>\n",
       "    <tr>\n",
       "      <th>2022-04-30</th>\n",
       "      <td>1.06</td>\n",
       "      <td>NaN</td>\n",
       "    </tr>\n",
       "    <tr>\n",
       "      <th>2022-05-31</th>\n",
       "      <td>0.47</td>\n",
       "      <td>NaN</td>\n",
       "    </tr>\n",
       "    <tr>\n",
       "      <th>2022-06-30</th>\n",
       "      <td>0.67</td>\n",
       "      <td>NaN</td>\n",
       "    </tr>\n",
       "    <tr>\n",
       "      <th>2022-07-31</th>\n",
       "      <td>-0.68</td>\n",
       "      <td>NaN</td>\n",
       "    </tr>\n",
       "    <tr>\n",
       "      <th>2022-08-31</th>\n",
       "      <td>-0.36</td>\n",
       "      <td>NaN</td>\n",
       "    </tr>\n",
       "  </tbody>\n",
       "</table></div>"
      ],
      "text/plain": [
       "            IPCA  IBOVESPA\n",
       "Date                      \n",
       "2022-04-30  1.06       NaN\n",
       "2022-05-31  0.47       NaN\n",
       "2022-06-30  0.67       NaN\n",
       "2022-07-31 -0.68       NaN\n",
       "2022-08-31 -0.36       NaN"
      ]
     },
     "execution_count": 7,
     "metadata": {},
     "output_type": "execute_result"
    }
   ],
   "source": [
    "df.tail()"
   ]
  },
  {
   "cell_type": "code",
   "execution_count": 8,
   "id": "38600475",
   "metadata": {
    "ExecuteTime": {
     "end_time": "2022-10-12T01:15:28.264666Z",
     "start_time": "2022-10-12T01:15:28.241703Z"
    }
   },
   "outputs": [],
   "source": [
    "df = df.dropna()"
   ]
  },
  {
   "cell_type": "markdown",
   "id": "5ba0e972",
   "metadata": {},
   "source": [
    "<div class=\"alert alert-block alert-info\" style=\"border-radius:15px\">\n",
    "<p style=\"color: black; font-family: Arial Black\">NOTA:</p>\n",
    "    \n",
    "O primeiro ponto da série é 1994-12-31, que representa o fim do Governo Itamar Franco, pois dessa forma é possível calcular os retornos desde o primeiro mês do governo FHC. <p> <br>\n",
    "\n",
    "A seguir os retornos do índice são calculados (<b>IBOVESPA_D</b>) e deflacionados (<b>IBOVESPA_D_DEFL</b>).\n",
    "    \n",
    "</div>"
   ]
  },
  {
   "cell_type": "code",
   "execution_count": 9,
   "id": "78c1cb4a",
   "metadata": {
    "ExecuteTime": {
     "end_time": "2022-10-12T01:15:29.450573Z",
     "start_time": "2022-10-12T01:15:29.426605Z"
    }
   },
   "outputs": [
    {
     "data": {
      "text/html": [
       "<div><div id=e90615d1-2072-450e-8a06-c27185872d85 style=\"display:none; background-color:#9D6CFF; color:white; width:200px; height:30px; padding-left:5px; border-radius:4px; flex-direction:row; justify-content:space-around; align-items:center;\" onmouseover=\"this.style.backgroundColor='#BA9BF8'\" onmouseout=\"this.style.backgroundColor='#9D6CFF'\" onclick=\"window.commands?.execute('create-mitosheet-from-dataframe-output');\">See Full Dataframe in Mito</div> <script> if (window.commands?.hasCommand('create-mitosheet-from-dataframe-output')) document.getElementById('e90615d1-2072-450e-8a06-c27185872d85').style.display = 'flex' </script> <table border=\"1\" class=\"dataframe\">\n",
       "  <thead>\n",
       "    <tr style=\"text-align: right;\">\n",
       "      <th></th>\n",
       "      <th>IPCA</th>\n",
       "      <th>IBOVESPA</th>\n",
       "      <th>IBOVESPA_D</th>\n",
       "      <th>IBOVESPA_D_DEFL</th>\n",
       "    </tr>\n",
       "    <tr>\n",
       "      <th>Date</th>\n",
       "      <th></th>\n",
       "      <th></th>\n",
       "      <th></th>\n",
       "      <th></th>\n",
       "    </tr>\n",
       "  </thead>\n",
       "  <tbody>\n",
       "    <tr>\n",
       "      <th>1995-01-31</th>\n",
       "      <td>1.70</td>\n",
       "      <td>38850.0</td>\n",
       "      <td>-0.107697</td>\n",
       "      <td>-0.122612</td>\n",
       "    </tr>\n",
       "    <tr>\n",
       "      <th>1995-02-28</th>\n",
       "      <td>1.02</td>\n",
       "      <td>32708.0</td>\n",
       "      <td>-0.158095</td>\n",
       "      <td>-0.166596</td>\n",
       "    </tr>\n",
       "    <tr>\n",
       "      <th>1995-03-31</th>\n",
       "      <td>1.55</td>\n",
       "      <td>29789.0</td>\n",
       "      <td>-0.089244</td>\n",
       "      <td>-0.103145</td>\n",
       "    </tr>\n",
       "    <tr>\n",
       "      <th>1995-04-30</th>\n",
       "      <td>2.43</td>\n",
       "      <td>38137.0</td>\n",
       "      <td>0.280238</td>\n",
       "      <td>0.249866</td>\n",
       "    </tr>\n",
       "    <tr>\n",
       "      <th>1995-05-31</th>\n",
       "      <td>2.67</td>\n",
       "      <td>37205.0</td>\n",
       "      <td>-0.024438</td>\n",
       "      <td>-0.049808</td>\n",
       "    </tr>\n",
       "    <tr>\n",
       "      <th>...</th>\n",
       "      <td>...</td>\n",
       "      <td>...</td>\n",
       "      <td>...</td>\n",
       "      <td>...</td>\n",
       "    </tr>\n",
       "    <tr>\n",
       "      <th>2019-04-30</th>\n",
       "      <td>0.57</td>\n",
       "      <td>96353.0</td>\n",
       "      <td>0.009841</td>\n",
       "      <td>0.004118</td>\n",
       "    </tr>\n",
       "    <tr>\n",
       "      <th>2019-05-31</th>\n",
       "      <td>0.13</td>\n",
       "      <td>97030.0</td>\n",
       "      <td>0.007026</td>\n",
       "      <td>0.005719</td>\n",
       "    </tr>\n",
       "    <tr>\n",
       "      <th>2019-06-30</th>\n",
       "      <td>0.01</td>\n",
       "      <td>100967.0</td>\n",
       "      <td>0.040575</td>\n",
       "      <td>0.040471</td>\n",
       "    </tr>\n",
       "    <tr>\n",
       "      <th>2019-07-31</th>\n",
       "      <td>0.19</td>\n",
       "      <td>101812.0</td>\n",
       "      <td>0.008369</td>\n",
       "      <td>0.006457</td>\n",
       "    </tr>\n",
       "    <tr>\n",
       "      <th>2019-08-31</th>\n",
       "      <td>0.11</td>\n",
       "      <td>101134.0</td>\n",
       "      <td>-0.006659</td>\n",
       "      <td>-0.007751</td>\n",
       "    </tr>\n",
       "  </tbody>\n",
       "</table></div>"
      ],
      "text/plain": [
       "            IPCA  IBOVESPA  IBOVESPA_D  IBOVESPA_D_DEFL\n",
       "Date                                                   \n",
       "1995-01-31  1.70   38850.0   -0.107697        -0.122612\n",
       "1995-02-28  1.02   32708.0   -0.158095        -0.166596\n",
       "1995-03-31  1.55   29789.0   -0.089244        -0.103145\n",
       "1995-04-30  2.43   38137.0    0.280238         0.249866\n",
       "1995-05-31  2.67   37205.0   -0.024438        -0.049808\n",
       "...          ...       ...         ...              ...\n",
       "2019-04-30  0.57   96353.0    0.009841         0.004118\n",
       "2019-05-31  0.13   97030.0    0.007026         0.005719\n",
       "2019-06-30  0.01  100967.0    0.040575         0.040471\n",
       "2019-07-31  0.19  101812.0    0.008369         0.006457\n",
       "2019-08-31  0.11  101134.0   -0.006659        -0.007751\n",
       "\n",
       "[296 rows x 4 columns]"
      ]
     },
     "execution_count": 9,
     "metadata": {},
     "output_type": "execute_result"
    }
   ],
   "source": [
    "df[\"IBOVESPA_D\"]      = df[\"IBOVESPA\"].diff()/ df[\"IBOVESPA\"].shift(1)\n",
    "df[\"IBOVESPA_D_DEFL\"] = (1 + df[\"IBOVESPA_D\"])/(1 + df[\"IPCA\"]/100) - 1\n",
    "df = df.dropna()\n",
    "df"
   ]
  },
  {
   "cell_type": "markdown",
   "id": "2c089340",
   "metadata": {},
   "source": [
    "Como o objetivo é agrupar os dados pelos períodos dos governos federais, vou criar uma função governo que recebe uma data e retorna o governo vigente. Em seguida eu aplico essa função ao índice do DataFrame e crio uma coluna chamada GOVERNO."
   ]
  },
  {
   "cell_type": "code",
   "execution_count": 10,
   "id": "05b4a999",
   "metadata": {
    "ExecuteTime": {
     "end_time": "2022-10-12T01:15:30.888543Z",
     "start_time": "2022-10-12T01:15:30.874580Z"
    }
   },
   "outputs": [],
   "source": [
    "def governo(data):\n",
    "    \n",
    "    data = data.date()\n",
    "    \n",
    "    if data >= datetime.date(1995, 1, 1) and data <= datetime.date(1998, 12, 31):\n",
    "        return 'FHC 1'\n",
    "    elif data >= datetime.date(1999, 1, 1) and data <= datetime.date(2002, 12, 31):\n",
    "        return 'FHC 2'\n",
    "    elif data >= datetime.date(2003, 1, 1) and data <= datetime.date(2006, 12, 31):\n",
    "        return 'LULA 1'\n",
    "    elif data >= datetime.date(2007, 1, 1) and data <= datetime.date(2010, 12, 31):\n",
    "        return 'LULA 2'\n",
    "    elif data >= datetime.date(2011, 1, 1) and data <= datetime.date(2014, 12, 31):\n",
    "        return 'DILMA 1'\n",
    "    elif data >= datetime.date(2015, 1, 1) and data < datetime.date(2016, 5, 12):\n",
    "        return 'DILMA 2'\n",
    "    elif data >= datetime.date(2016, 5, 12) and data <= datetime.date(2016, 12, 31):\n",
    "        return 'TEMER'\n",
    "    elif data >= datetime.date(2018, 1, 1) and data <= datetime.date(2021, 12, 31):\n",
    "        return 'BOLSONARO 1'\n",
    "    else:\n",
    "        return None\n",
    "\n",
    "df['GOVERNO'] = df.index.map(governo)"
   ]
  },
  {
   "cell_type": "code",
   "execution_count": 11,
   "id": "20948c1f",
   "metadata": {
    "ExecuteTime": {
     "end_time": "2022-10-12T01:15:33.247632Z",
     "start_time": "2022-10-12T01:15:33.234593Z"
    }
   },
   "outputs": [
    {
     "data": {
      "text/html": [
       "<div><div id=a35749ea-dcb0-41dc-a068-9cb0e9ebf781 style=\"display:none; background-color:#9D6CFF; color:white; width:200px; height:30px; padding-left:5px; border-radius:4px; flex-direction:row; justify-content:space-around; align-items:center;\" onmouseover=\"this.style.backgroundColor='#BA9BF8'\" onmouseout=\"this.style.backgroundColor='#9D6CFF'\" onclick=\"window.commands?.execute('create-mitosheet-from-dataframe-output');\">See Full Dataframe in Mito</div> <script> if (window.commands?.hasCommand('create-mitosheet-from-dataframe-output')) document.getElementById('a35749ea-dcb0-41dc-a068-9cb0e9ebf781').style.display = 'flex' </script> <table border=\"1\" class=\"dataframe\">\n",
       "  <thead>\n",
       "    <tr style=\"text-align: right;\">\n",
       "      <th></th>\n",
       "      <th>IPCA</th>\n",
       "      <th>IBOVESPA</th>\n",
       "      <th>IBOVESPA_D</th>\n",
       "      <th>IBOVESPA_D_DEFL</th>\n",
       "      <th>GOVERNO</th>\n",
       "    </tr>\n",
       "    <tr>\n",
       "      <th>Date</th>\n",
       "      <th></th>\n",
       "      <th></th>\n",
       "      <th></th>\n",
       "      <th></th>\n",
       "      <th></th>\n",
       "    </tr>\n",
       "  </thead>\n",
       "  <tbody>\n",
       "    <tr>\n",
       "      <th>1995-01-31</th>\n",
       "      <td>1.70</td>\n",
       "      <td>38850.0</td>\n",
       "      <td>-0.107697</td>\n",
       "      <td>-0.122612</td>\n",
       "      <td>FHC 1</td>\n",
       "    </tr>\n",
       "    <tr>\n",
       "      <th>1995-02-28</th>\n",
       "      <td>1.02</td>\n",
       "      <td>32708.0</td>\n",
       "      <td>-0.158095</td>\n",
       "      <td>-0.166596</td>\n",
       "      <td>FHC 1</td>\n",
       "    </tr>\n",
       "    <tr>\n",
       "      <th>1995-03-31</th>\n",
       "      <td>1.55</td>\n",
       "      <td>29789.0</td>\n",
       "      <td>-0.089244</td>\n",
       "      <td>-0.103145</td>\n",
       "      <td>FHC 1</td>\n",
       "    </tr>\n",
       "    <tr>\n",
       "      <th>1995-04-30</th>\n",
       "      <td>2.43</td>\n",
       "      <td>38137.0</td>\n",
       "      <td>0.280238</td>\n",
       "      <td>0.249866</td>\n",
       "      <td>FHC 1</td>\n",
       "    </tr>\n",
       "    <tr>\n",
       "      <th>1995-05-31</th>\n",
       "      <td>2.67</td>\n",
       "      <td>37205.0</td>\n",
       "      <td>-0.024438</td>\n",
       "      <td>-0.049808</td>\n",
       "      <td>FHC 1</td>\n",
       "    </tr>\n",
       "  </tbody>\n",
       "</table></div>"
      ],
      "text/plain": [
       "            IPCA  IBOVESPA  IBOVESPA_D  IBOVESPA_D_DEFL GOVERNO\n",
       "Date                                                           \n",
       "1995-01-31  1.70   38850.0   -0.107697        -0.122612   FHC 1\n",
       "1995-02-28  1.02   32708.0   -0.158095        -0.166596   FHC 1\n",
       "1995-03-31  1.55   29789.0   -0.089244        -0.103145   FHC 1\n",
       "1995-04-30  2.43   38137.0    0.280238         0.249866   FHC 1\n",
       "1995-05-31  2.67   37205.0   -0.024438        -0.049808   FHC 1"
      ]
     },
     "execution_count": 11,
     "metadata": {},
     "output_type": "execute_result"
    }
   ],
   "source": [
    "df.head()"
   ]
  },
  {
   "cell_type": "markdown",
   "id": "9fd62458",
   "metadata": {},
   "source": [
    "Agora eu agrupo (groupby) pela GOVERNO e sumarizo os dados com a função aggregate calculando o retorno acumulado em cada período de governo federal."
   ]
  },
  {
   "cell_type": "code",
   "execution_count": 12,
   "id": "88e07fb4",
   "metadata": {
    "ExecuteTime": {
     "end_time": "2022-10-12T01:15:34.810463Z",
     "start_time": "2022-10-12T01:15:34.786467Z"
    }
   },
   "outputs": [
    {
     "data": {
      "text/html": [
       "<div><div id=d64c07c9-68f3-434e-8c91-94b4b6ae6464 style=\"display:none; background-color:#9D6CFF; color:white; width:200px; height:30px; padding-left:5px; border-radius:4px; flex-direction:row; justify-content:space-around; align-items:center;\" onmouseover=\"this.style.backgroundColor='#BA9BF8'\" onmouseout=\"this.style.backgroundColor='#9D6CFF'\" onclick=\"window.commands?.execute('create-mitosheet-from-dataframe-output');\">See Full Dataframe in Mito</div> <script> if (window.commands?.hasCommand('create-mitosheet-from-dataframe-output')) document.getElementById('d64c07c9-68f3-434e-8c91-94b4b6ae6464').style.display = 'flex' </script> <table border=\"1\" class=\"dataframe\">\n",
       "  <thead>\n",
       "    <tr style=\"text-align: right;\">\n",
       "      <th></th>\n",
       "      <th>IPCA</th>\n",
       "      <th>IBOVESPA</th>\n",
       "      <th>IBOVESPA_D</th>\n",
       "      <th>IBOVESPA_D_DEFL</th>\n",
       "      <th>GOVERNO</th>\n",
       "    </tr>\n",
       "    <tr>\n",
       "      <th>Date</th>\n",
       "      <th></th>\n",
       "      <th></th>\n",
       "      <th></th>\n",
       "      <th></th>\n",
       "      <th></th>\n",
       "    </tr>\n",
       "  </thead>\n",
       "  <tbody>\n",
       "    <tr>\n",
       "      <th>1995-01-31</th>\n",
       "      <td>1.70</td>\n",
       "      <td>38850.0</td>\n",
       "      <td>-0.107697</td>\n",
       "      <td>-0.122612</td>\n",
       "      <td>FHC 1</td>\n",
       "    </tr>\n",
       "    <tr>\n",
       "      <th>1995-02-28</th>\n",
       "      <td>1.02</td>\n",
       "      <td>32708.0</td>\n",
       "      <td>-0.158095</td>\n",
       "      <td>-0.166596</td>\n",
       "      <td>FHC 1</td>\n",
       "    </tr>\n",
       "    <tr>\n",
       "      <th>1995-03-31</th>\n",
       "      <td>1.55</td>\n",
       "      <td>29789.0</td>\n",
       "      <td>-0.089244</td>\n",
       "      <td>-0.103145</td>\n",
       "      <td>FHC 1</td>\n",
       "    </tr>\n",
       "    <tr>\n",
       "      <th>1995-04-30</th>\n",
       "      <td>2.43</td>\n",
       "      <td>38137.0</td>\n",
       "      <td>0.280238</td>\n",
       "      <td>0.249866</td>\n",
       "      <td>FHC 1</td>\n",
       "    </tr>\n",
       "    <tr>\n",
       "      <th>1995-05-31</th>\n",
       "      <td>2.67</td>\n",
       "      <td>37205.0</td>\n",
       "      <td>-0.024438</td>\n",
       "      <td>-0.049808</td>\n",
       "      <td>FHC 1</td>\n",
       "    </tr>\n",
       "    <tr>\n",
       "      <th>...</th>\n",
       "      <td>...</td>\n",
       "      <td>...</td>\n",
       "      <td>...</td>\n",
       "      <td>...</td>\n",
       "      <td>...</td>\n",
       "    </tr>\n",
       "    <tr>\n",
       "      <th>2018-01-31</th>\n",
       "      <td>0.29</td>\n",
       "      <td>84912.0</td>\n",
       "      <td>0.111385</td>\n",
       "      <td>0.108171</td>\n",
       "      <td>BOLSONARO 1</td>\n",
       "    </tr>\n",
       "    <tr>\n",
       "      <th>2018-02-28</th>\n",
       "      <td>0.32</td>\n",
       "      <td>85353.0</td>\n",
       "      <td>0.005194</td>\n",
       "      <td>0.001987</td>\n",
       "      <td>BOLSONARO 1</td>\n",
       "    </tr>\n",
       "    <tr>\n",
       "      <th>2018-03-31</th>\n",
       "      <td>0.09</td>\n",
       "      <td>85365.0</td>\n",
       "      <td>0.000141</td>\n",
       "      <td>-0.000759</td>\n",
       "      <td>BOLSONARO 1</td>\n",
       "    </tr>\n",
       "    <tr>\n",
       "      <th>2018-04-30</th>\n",
       "      <td>0.22</td>\n",
       "      <td>86115.0</td>\n",
       "      <td>0.008786</td>\n",
       "      <td>0.006571</td>\n",
       "      <td>BOLSONARO 1</td>\n",
       "    </tr>\n",
       "    <tr>\n",
       "      <th>2018-05-31</th>\n",
       "      <td>0.40</td>\n",
       "      <td>76753.0</td>\n",
       "      <td>-0.108715</td>\n",
       "      <td>-0.112266</td>\n",
       "      <td>BOLSONARO 1</td>\n",
       "    </tr>\n",
       "  </tbody>\n",
       "</table></div>"
      ],
      "text/plain": [
       "            IPCA  IBOVESPA  IBOVESPA_D  IBOVESPA_D_DEFL      GOVERNO\n",
       "Date                                                                \n",
       "1995-01-31  1.70   38850.0   -0.107697        -0.122612        FHC 1\n",
       "1995-02-28  1.02   32708.0   -0.158095        -0.166596        FHC 1\n",
       "1995-03-31  1.55   29789.0   -0.089244        -0.103145        FHC 1\n",
       "1995-04-30  2.43   38137.0    0.280238         0.249866        FHC 1\n",
       "1995-05-31  2.67   37205.0   -0.024438        -0.049808        FHC 1\n",
       "1999-01-31  0.70    8171.0    0.204452         0.196079        FHC 2\n",
       "1999-02-28  1.05    8910.0    0.090442         0.079111        FHC 2\n",
       "1999-03-31  1.10   10696.0    0.200449         0.187388        FHC 2\n",
       "1999-04-30  0.56   11350.0    0.061144         0.055235        FHC 2\n",
       "1999-05-31  0.30   11089.0   -0.022996        -0.025918        FHC 2\n",
       "2003-01-31  2.25   10941.0   -0.029020        -0.050387       LULA 1\n",
       "2003-02-28  1.57   10280.0   -0.060415        -0.074938       LULA 1\n",
       "2003-03-31  1.23   11273.0    0.096595         0.083271       LULA 1\n",
       "2003-04-30  0.97   12556.0    0.113812         0.103112       LULA 1\n",
       "2003-05-31  0.61   13421.0    0.068891         0.062411       LULA 1\n",
       "2007-01-31  0.44   44641.0    0.003778        -0.000620       LULA 2\n",
       "2007-02-28  0.44   43892.0   -0.016778        -0.021086       LULA 2\n",
       "2007-03-31  0.37   45804.0    0.043561         0.039715       LULA 2\n",
       "2007-04-30  0.25   48956.0    0.068815         0.066150       LULA 2\n",
       "2007-05-31  0.28   52268.0    0.067653         0.064672       LULA 2\n",
       "2011-01-31  0.83   66574.0   -0.039392        -0.047299      DILMA 1\n",
       "2011-02-28  0.80   67383.0    0.012152         0.004119      DILMA 1\n",
       "2011-03-31  0.79   68586.0    0.017853         0.009875      DILMA 1\n",
       "2011-04-30  0.77   66132.0   -0.035780        -0.043148      DILMA 1\n",
       "2011-05-31  0.47   64620.0   -0.022863        -0.027434      DILMA 1\n",
       "2015-01-31  1.24   46907.0   -0.061991        -0.073480      DILMA 2\n",
       "2015-02-28  1.22   51583.0    0.099687         0.086432      DILMA 2\n",
       "2015-03-31  1.32   51150.0   -0.008394        -0.021313      DILMA 2\n",
       "2015-04-30  0.71   56229.0    0.099296         0.091546      DILMA 2\n",
       "2015-05-31  0.74   52760.0   -0.061694        -0.068587      DILMA 2\n",
       "2016-05-31  0.78   48471.0   -0.100890        -0.107849        TEMER\n",
       "2016-06-30  0.35   51526.0    0.063027         0.059320        TEMER\n",
       "2016-07-31  0.52   57308.0    0.112215         0.106462        TEMER\n",
       "2016-08-31  0.44   57901.0    0.010348         0.005922        TEMER\n",
       "2016-09-30  0.08   58367.0    0.008048         0.007242        TEMER\n",
       "2017-01-31  0.38   64670.0    0.073771         0.069706         None\n",
       "2017-02-28  0.33   66662.0    0.030803         0.027412         None\n",
       "2017-03-31  0.25   64984.0   -0.025172        -0.027603         None\n",
       "2017-04-30  0.14   65403.0    0.006448         0.005041         None\n",
       "2017-05-31  0.31   62711.0   -0.041160        -0.044123         None\n",
       "2018-01-31  0.29   84912.0    0.111385         0.108171  BOLSONARO 1\n",
       "2018-02-28  0.32   85353.0    0.005194         0.001987  BOLSONARO 1\n",
       "2018-03-31  0.09   85365.0    0.000141        -0.000759  BOLSONARO 1\n",
       "2018-04-30  0.22   86115.0    0.008786         0.006571  BOLSONARO 1\n",
       "2018-05-31  0.40   76753.0   -0.108715        -0.112266  BOLSONARO 1"
      ]
     },
     "execution_count": 12,
     "metadata": {},
     "output_type": "execute_result"
    }
   ],
   "source": [
    "df_gov = df.groupby('GOVERNO')\n",
    "df_gov.head()"
   ]
  },
  {
   "attachments": {
    "image.png": {
     "image/png": "[encoded data removed]"
    }
   },
   "cell_type": "markdown",
   "id": "ccd5b593",
   "metadata": {},
   "source": [
    "Vou calcular o retorno acumulado das colunas IBOVESPA_D e IBOVESPA_D_DEFL passando para a função aggregate a função de retorno acumulado abaixo:\n",
    "\n",
    "![image.png](attachment:image.png)\n",
    "\n",
    "\n",
    "que realiza o produtório do fator de captalização dos retornos e multiplico o resultado por 100 para obter o número em percentual."
   ]
  },
  {
   "cell_type": "code",
   "execution_count": 13,
   "id": "b9a4fb23",
   "metadata": {
    "ExecuteTime": {
     "end_time": "2022-10-12T01:15:42.210617Z",
     "start_time": "2022-10-12T01:15:42.185619Z"
    }
   },
   "outputs": [
    {
     "data": {
      "text/html": [
       "<div><div id=da450e4e-40ea-41a8-bf92-f063c525ad44 style=\"display:none; background-color:#9D6CFF; color:white; width:200px; height:30px; padding-left:5px; border-radius:4px; flex-direction:row; justify-content:space-around; align-items:center;\" onmouseover=\"this.style.backgroundColor='#BA9BF8'\" onmouseout=\"this.style.backgroundColor='#9D6CFF'\" onclick=\"window.commands?.execute('create-mitosheet-from-dataframe-output');\">See Full Dataframe in Mito</div> <script> if (window.commands?.hasCommand('create-mitosheet-from-dataframe-output')) document.getElementById('da450e4e-40ea-41a8-bf92-f063c525ad44').style.display = 'flex' </script> <table border=\"1\" class=\"dataframe\">\n",
       "  <thead>\n",
       "    <tr style=\"text-align: right;\">\n",
       "      <th></th>\n",
       "      <th>IBOVESPA_D</th>\n",
       "      <th>IBOVESPA_D_DEFL</th>\n",
       "    </tr>\n",
       "    <tr>\n",
       "      <th>GOVERNO</th>\n",
       "      <th></th>\n",
       "      <th></th>\n",
       "    </tr>\n",
       "  </thead>\n",
       "  <tbody>\n",
       "    <tr>\n",
       "      <th>BOLSONARO 1</th>\n",
       "      <td>32.370880</td>\n",
       "      <td>24.436931</td>\n",
       "    </tr>\n",
       "    <tr>\n",
       "      <th>DILMA 1</th>\n",
       "      <td>-27.843992</td>\n",
       "      <td>-43.199362</td>\n",
       "    </tr>\n",
       "    <tr>\n",
       "      <th>DILMA 2</th>\n",
       "      <td>7.804907</td>\n",
       "      <td>-5.655127</td>\n",
       "    </tr>\n",
       "    <tr>\n",
       "      <th>FHC 1</th>\n",
       "      <td>-84.418567</td>\n",
       "      <td>-89.138794</td>\n",
       "    </tr>\n",
       "    <tr>\n",
       "      <th>FHC 2</th>\n",
       "      <td>66.096698</td>\n",
       "      <td>18.739626</td>\n",
       "    </tr>\n",
       "    <tr>\n",
       "      <th>LULA 1</th>\n",
       "      <td>294.684061</td>\n",
       "      <td>207.855809</td>\n",
       "    </tr>\n",
       "    <tr>\n",
       "      <th>LULA 2</th>\n",
       "      <td>55.833877</td>\n",
       "      <td>27.511680</td>\n",
       "    </tr>\n",
       "    <tr>\n",
       "      <th>TEMER</th>\n",
       "      <td>11.717678</td>\n",
       "      <td>8.521060</td>\n",
       "    </tr>\n",
       "  </tbody>\n",
       "</table></div>"
      ],
      "text/plain": [
       "             IBOVESPA_D  IBOVESPA_D_DEFL\n",
       "GOVERNO                                 \n",
       "BOLSONARO 1   32.370880        24.436931\n",
       "DILMA 1      -27.843992       -43.199362\n",
       "DILMA 2        7.804907        -5.655127\n",
       "FHC 1        -84.418567       -89.138794\n",
       "FHC 2         66.096698        18.739626\n",
       "LULA 1       294.684061       207.855809\n",
       "LULA 2        55.833877        27.511680\n",
       "TEMER         11.717678         8.521060"
      ]
     },
     "execution_count": 13,
     "metadata": {},
     "output_type": "execute_result"
    }
   ],
   "source": [
    "df_gov_agg = df_gov[['IBOVESPA_D', 'IBOVESPA_D_DEFL']].aggregate(lambda x: 100*(np.prod(1 + x) - 1))\n",
    "df_gov_agg"
   ]
  },
  {
   "cell_type": "markdown",
   "id": "74c3760b",
   "metadata": {},
   "source": [
    "As colunas IBOVESPA_D e IBOVESPA_D_DEFL representam os retornos totais nos períodos dos governos federais. Já é possível notar duas coisas: o primeiro governo do Lula apresenta um retorno muito grande e os governos estão fora de ordem cronológica. Vamos colocar os governos em ordem cronológica para visualizar os dados de forma coerente. Para ordenar os dados por governos de forma cronológica eu vou criar a função sort_by_governo que recebe um DataFrame e o retorna ordenado."
   ]
  },
  {
   "cell_type": "code",
   "execution_count": 14,
   "id": "adbad681",
   "metadata": {
    "ExecuteTime": {
     "end_time": "2022-10-12T01:15:44.114850Z",
     "start_time": "2022-10-12T01:15:44.099855Z"
    }
   },
   "outputs": [
    {
     "data": {
      "text/html": [
       "<div><div id=42225d35-a0af-4c8d-9097-26856346b451 style=\"display:none; background-color:#9D6CFF; color:white; width:200px; height:30px; padding-left:5px; border-radius:4px; flex-direction:row; justify-content:space-around; align-items:center;\" onmouseover=\"this.style.backgroundColor='#BA9BF8'\" onmouseout=\"this.style.backgroundColor='#9D6CFF'\" onclick=\"window.commands?.execute('create-mitosheet-from-dataframe-output');\">See Full Dataframe in Mito</div> <script> if (window.commands?.hasCommand('create-mitosheet-from-dataframe-output')) document.getElementById('42225d35-a0af-4c8d-9097-26856346b451').style.display = 'flex' </script> <table border=\"1\" class=\"dataframe\">\n",
       "  <thead>\n",
       "    <tr style=\"text-align: right;\">\n",
       "      <th></th>\n",
       "      <th>IBOVESPA_D</th>\n",
       "      <th>IBOVESPA_D_DEFL</th>\n",
       "    </tr>\n",
       "    <tr>\n",
       "      <th>GOVERNO</th>\n",
       "      <th></th>\n",
       "      <th></th>\n",
       "    </tr>\n",
       "  </thead>\n",
       "  <tbody>\n",
       "    <tr>\n",
       "      <th>FHC 1</th>\n",
       "      <td>-84.418567</td>\n",
       "      <td>-89.138794</td>\n",
       "    </tr>\n",
       "    <tr>\n",
       "      <th>FHC 2</th>\n",
       "      <td>66.096698</td>\n",
       "      <td>18.739626</td>\n",
       "    </tr>\n",
       "    <tr>\n",
       "      <th>LULA 1</th>\n",
       "      <td>294.684061</td>\n",
       "      <td>207.855809</td>\n",
       "    </tr>\n",
       "    <tr>\n",
       "      <th>LULA 2</th>\n",
       "      <td>55.833877</td>\n",
       "      <td>27.511680</td>\n",
       "    </tr>\n",
       "    <tr>\n",
       "      <th>DILMA 1</th>\n",
       "      <td>-27.843992</td>\n",
       "      <td>-43.199362</td>\n",
       "    </tr>\n",
       "    <tr>\n",
       "      <th>DILMA 2</th>\n",
       "      <td>7.804907</td>\n",
       "      <td>-5.655127</td>\n",
       "    </tr>\n",
       "    <tr>\n",
       "      <th>TEMER</th>\n",
       "      <td>11.717678</td>\n",
       "      <td>8.521060</td>\n",
       "    </tr>\n",
       "    <tr>\n",
       "      <th>BOLSONARO 1</th>\n",
       "      <td>32.370880</td>\n",
       "      <td>24.436931</td>\n",
       "    </tr>\n",
       "  </tbody>\n",
       "</table></div>"
      ],
      "text/plain": [
       "             IBOVESPA_D  IBOVESPA_D_DEFL\n",
       "GOVERNO                                 \n",
       "FHC 1        -84.418567       -89.138794\n",
       "FHC 2         66.096698        18.739626\n",
       "LULA 1       294.684061       207.855809\n",
       "LULA 2        55.833877        27.511680\n",
       "DILMA 1      -27.843992       -43.199362\n",
       "DILMA 2        7.804907        -5.655127\n",
       "TEMER         11.717678         8.521060\n",
       "BOLSONARO 1   32.370880        24.436931"
      ]
     },
     "execution_count": 14,
     "metadata": {},
     "output_type": "execute_result"
    }
   ],
   "source": [
    "def sort_by_governo(dx):\n",
    "    governos = ['FHC 1', 'FHC 2', 'LULA 1', 'LULA 2', 'DILMA 1', 'DILMA 2', 'TEMER', 'BOLSONARO 1']\n",
    "    mapping = {gov: i for i, gov in enumerate(governos)}\n",
    "    key = dx.index.map(lambda x: mapping[x])\n",
    "    return dx.iloc[key.argsort()]\n",
    "\n",
    "df_gov_agg = sort_by_governo(df_gov_agg)\n",
    "df_gov_agg"
   ]
  },
  {
   "cell_type": "markdown",
   "id": "901d919d",
   "metadata": {},
   "source": [
    "Com os dados ordenados vamos visualizá-los em um gráfico de barras."
   ]
  },
  {
   "cell_type": "code",
   "execution_count": 15,
   "id": "32840276",
   "metadata": {
    "ExecuteTime": {
     "end_time": "2022-10-12T01:15:48.900972Z",
     "start_time": "2022-10-12T01:15:48.698973Z"
    }
   },
   "outputs": [
    {
     "data": {
      "image/png": "[encoded data removed]",
      "text/plain": [
       "<Figure size 720x432 with 1 Axes>"
      ]
     },
     "metadata": {
      "needs_background": "light"
     },
     "output_type": "display_data"
    }
   ],
   "source": [
    "ax = df_gov_agg[['IBOVESPA_D', 'IBOVESPA_D_DEFL']].plot(kind='bar', \n",
    "                                                        figsize=(10,6),\n",
    "                                                        title=\"Variação % do IBOVESPA nos Governos Federais\")\n",
    "ax.set_xlabel(\"Governo\")\n",
    "ax.set_ylabel(\"Variação (%)\");"
   ]
  },
  {
   "cell_type": "markdown",
   "id": "301cc233",
   "metadata": {},
   "source": [
    "<div class=\"alert alert-block alert-info\" style=\"border-radius:15px\">\n",
    "<p style=\"color: black; font-family: Arial Black\">NOTA:</p> \n",
    "    \n",
    "É possível observar diversas coisas, vou listar os pontos que mais me chamaram a atenção:\n",
    "\n",
    "- A inflação no governo DILMA 2 comeu todo o retorno entrege pelo IBOVESPA;\n",
    "- O pior período para o IBOVESPA foi o primeiro governo do FHC;\n",
    "- O governo LULA 1 apresentou um retorno espetacular;\n",
    "- Os governos FHC 2 e LULA 2 apresentam retornos semelhantes, apesar da inflação ser maior em FHC 2 e LULA 2 contempla a crise Sub Prime; \n",
    "- O governo de BOLSONARO 1 apresenta uma melhoria na bolsa em relação aos governos de Dilma e Temer.   \n",
    "\n",
    "No entanto, os governos DILMA 2 e TEMER possuem durações diferentes dos demais, portanto vamos calcular os retornos anualizados para cada governo para facilitar a comparação. Apesar de que governos com maiores durações sofrem mais com a volatilidade do que governos mais curtos, que por outro lado tem menos tempo de recuperação caso recessões ocorram.\n",
    "\n",
    "Para calcular os retornos anualizados vou fazer uma contagem da quantidade de meses de cada governo. Faço isso contando a quantidade de dados em cada grupo GOVERNO e crio a coluna Meses.\n",
    "    \n",
    "</div>"
   ]
  },
  {
   "cell_type": "code",
   "execution_count": 16,
   "id": "d20649f8",
   "metadata": {
    "ExecuteTime": {
     "end_time": "2022-10-12T01:15:51.119927Z",
     "start_time": "2022-10-12T01:15:51.105929Z"
    }
   },
   "outputs": [
    {
     "data": {
      "text/html": [
       "<div><div id=5c20c808-e5d9-4cd9-9c28-1e1f6744c69e style=\"display:none; background-color:#9D6CFF; color:white; width:200px; height:30px; padding-left:5px; border-radius:4px; flex-direction:row; justify-content:space-around; align-items:center;\" onmouseover=\"this.style.backgroundColor='#BA9BF8'\" onmouseout=\"this.style.backgroundColor='#9D6CFF'\" onclick=\"window.commands?.execute('create-mitosheet-from-dataframe-output');\">See Full Dataframe in Mito</div> <script> if (window.commands?.hasCommand('create-mitosheet-from-dataframe-output')) document.getElementById('5c20c808-e5d9-4cd9-9c28-1e1f6744c69e').style.display = 'flex' </script> <table border=\"1\" class=\"dataframe\">\n",
       "  <thead>\n",
       "    <tr style=\"text-align: right;\">\n",
       "      <th></th>\n",
       "      <th>IBOVESPA_D</th>\n",
       "      <th>IBOVESPA_D_DEFL</th>\n",
       "      <th>Meses</th>\n",
       "    </tr>\n",
       "    <tr>\n",
       "      <th>GOVERNO</th>\n",
       "      <th></th>\n",
       "      <th></th>\n",
       "      <th></th>\n",
       "    </tr>\n",
       "  </thead>\n",
       "  <tbody>\n",
       "    <tr>\n",
       "      <th>FHC 1</th>\n",
       "      <td>-84.418567</td>\n",
       "      <td>-89.138794</td>\n",
       "      <td>48</td>\n",
       "    </tr>\n",
       "    <tr>\n",
       "      <th>FHC 2</th>\n",
       "      <td>66.096698</td>\n",
       "      <td>18.739626</td>\n",
       "      <td>48</td>\n",
       "    </tr>\n",
       "    <tr>\n",
       "      <th>LULA 1</th>\n",
       "      <td>294.684061</td>\n",
       "      <td>207.855809</td>\n",
       "      <td>48</td>\n",
       "    </tr>\n",
       "    <tr>\n",
       "      <th>LULA 2</th>\n",
       "      <td>55.833877</td>\n",
       "      <td>27.511680</td>\n",
       "      <td>48</td>\n",
       "    </tr>\n",
       "    <tr>\n",
       "      <th>DILMA 1</th>\n",
       "      <td>-27.843992</td>\n",
       "      <td>-43.199362</td>\n",
       "      <td>48</td>\n",
       "    </tr>\n",
       "    <tr>\n",
       "      <th>DILMA 2</th>\n",
       "      <td>7.804907</td>\n",
       "      <td>-5.655127</td>\n",
       "      <td>16</td>\n",
       "    </tr>\n",
       "    <tr>\n",
       "      <th>TEMER</th>\n",
       "      <td>11.717678</td>\n",
       "      <td>8.521060</td>\n",
       "      <td>8</td>\n",
       "    </tr>\n",
       "    <tr>\n",
       "      <th>BOLSONARO 1</th>\n",
       "      <td>32.370880</td>\n",
       "      <td>24.436931</td>\n",
       "      <td>20</td>\n",
       "    </tr>\n",
       "  </tbody>\n",
       "</table></div>"
      ],
      "text/plain": [
       "             IBOVESPA_D  IBOVESPA_D_DEFL  Meses\n",
       "GOVERNO                                        \n",
       "FHC 1        -84.418567       -89.138794     48\n",
       "FHC 2         66.096698        18.739626     48\n",
       "LULA 1       294.684061       207.855809     48\n",
       "LULA 2        55.833877        27.511680     48\n",
       "DILMA 1      -27.843992       -43.199362     48\n",
       "DILMA 2        7.804907        -5.655127     16\n",
       "TEMER         11.717678         8.521060      8\n",
       "BOLSONARO 1   32.370880        24.436931     20"
      ]
     },
     "execution_count": 16,
     "metadata": {},
     "output_type": "execute_result"
    }
   ],
   "source": [
    "df_gov_agg['Meses'] = df_gov['GOVERNO'].count()\n",
    "df_gov_agg"
   ]
  },
  {
   "attachments": {
    "image.png": {
     "image/png": "[encoded data removed]"
    }
   },
   "cell_type": "markdown",
   "id": "5fc6cd51",
   "metadata": {},
   "source": [
    "Os retornos anualizados são calculados a partir dos retornos do período, de acordo com a fórmula:\n",
    "\n",
    "![image.png](attachment:image.png)\n",
    "\n",
    "onde r são as taxas de retorno e n é a quantidade de meses de cada governo."
   ]
  },
  {
   "cell_type": "code",
   "execution_count": 17,
   "id": "4e1bac41",
   "metadata": {
    "ExecuteTime": {
     "end_time": "2022-10-12T01:15:53.366462Z",
     "start_time": "2022-10-12T01:15:53.338463Z"
    }
   },
   "outputs": [
    {
     "data": {
      "text/html": [
       "<div><div id=be1f7128-d209-4809-b11d-32ae2cd7ed0b style=\"display:none; background-color:#9D6CFF; color:white; width:200px; height:30px; padding-left:5px; border-radius:4px; flex-direction:row; justify-content:space-around; align-items:center;\" onmouseover=\"this.style.backgroundColor='#BA9BF8'\" onmouseout=\"this.style.backgroundColor='#9D6CFF'\" onclick=\"window.commands?.execute('create-mitosheet-from-dataframe-output');\">See Full Dataframe in Mito</div> <script> if (window.commands?.hasCommand('create-mitosheet-from-dataframe-output')) document.getElementById('be1f7128-d209-4809-b11d-32ae2cd7ed0b').style.display = 'flex' </script> <table border=\"1\" class=\"dataframe\">\n",
       "  <thead>\n",
       "    <tr style=\"text-align: right;\">\n",
       "      <th></th>\n",
       "      <th>IBOVESPA_D</th>\n",
       "      <th>IBOVESPA_D_DEFL</th>\n",
       "      <th>Meses</th>\n",
       "      <th>IBOVESPA_D_anual</th>\n",
       "      <th>IBOVESPA_D_DEFL_anual</th>\n",
       "    </tr>\n",
       "    <tr>\n",
       "      <th>GOVERNO</th>\n",
       "      <th></th>\n",
       "      <th></th>\n",
       "      <th></th>\n",
       "      <th></th>\n",
       "      <th></th>\n",
       "    </tr>\n",
       "  </thead>\n",
       "  <tbody>\n",
       "    <tr>\n",
       "      <th>FHC 1</th>\n",
       "      <td>-84.418567</td>\n",
       "      <td>-89.138794</td>\n",
       "      <td>48</td>\n",
       "      <td>-37.172201</td>\n",
       "      <td>-42.592385</td>\n",
       "    </tr>\n",
       "    <tr>\n",
       "      <th>FHC 2</th>\n",
       "      <td>66.096698</td>\n",
       "      <td>18.739626</td>\n",
       "      <td>48</td>\n",
       "      <td>13.524670</td>\n",
       "      <td>4.387602</td>\n",
       "    </tr>\n",
       "    <tr>\n",
       "      <th>LULA 1</th>\n",
       "      <td>294.684061</td>\n",
       "      <td>207.855809</td>\n",
       "      <td>48</td>\n",
       "      <td>40.949129</td>\n",
       "      <td>32.460637</td>\n",
       "    </tr>\n",
       "    <tr>\n",
       "      <th>LULA 2</th>\n",
       "      <td>55.833877</td>\n",
       "      <td>27.511680</td>\n",
       "      <td>48</td>\n",
       "      <td>11.728886</td>\n",
       "      <td>6.264326</td>\n",
       "    </tr>\n",
       "    <tr>\n",
       "      <th>DILMA 1</th>\n",
       "      <td>-27.843992</td>\n",
       "      <td>-43.199362</td>\n",
       "      <td>48</td>\n",
       "      <td>-7.834555</td>\n",
       "      <td>-13.186292</td>\n",
       "    </tr>\n",
       "    <tr>\n",
       "      <th>DILMA 2</th>\n",
       "      <td>7.804907</td>\n",
       "      <td>-5.655127</td>\n",
       "      <td>16</td>\n",
       "      <td>5.798351</td>\n",
       "      <td>-4.272056</td>\n",
       "    </tr>\n",
       "    <tr>\n",
       "      <th>TEMER</th>\n",
       "      <td>11.717678</td>\n",
       "      <td>8.521060</td>\n",
       "      <td>8</td>\n",
       "      <td>18.081768</td>\n",
       "      <td>13.050123</td>\n",
       "    </tr>\n",
       "    <tr>\n",
       "      <th>BOLSONARO 1</th>\n",
       "      <td>32.370880</td>\n",
       "      <td>24.436931</td>\n",
       "      <td>20</td>\n",
       "      <td>18.324717</td>\n",
       "      <td>14.016991</td>\n",
       "    </tr>\n",
       "  </tbody>\n",
       "</table></div>"
      ],
      "text/plain": [
       "             IBOVESPA_D  IBOVESPA_D_DEFL  Meses  IBOVESPA_D_anual  \\\n",
       "GOVERNO                                                             \n",
       "FHC 1        -84.418567       -89.138794     48        -37.172201   \n",
       "FHC 2         66.096698        18.739626     48         13.524670   \n",
       "LULA 1       294.684061       207.855809     48         40.949129   \n",
       "LULA 2        55.833877        27.511680     48         11.728886   \n",
       "DILMA 1      -27.843992       -43.199362     48         -7.834555   \n",
       "DILMA 2        7.804907        -5.655127     16          5.798351   \n",
       "TEMER         11.717678         8.521060      8         18.081768   \n",
       "BOLSONARO 1   32.370880        24.436931     20         18.324717   \n",
       "\n",
       "             IBOVESPA_D_DEFL_anual  \n",
       "GOVERNO                             \n",
       "FHC 1                   -42.592385  \n",
       "FHC 2                     4.387602  \n",
       "LULA 1                   32.460637  \n",
       "LULA 2                    6.264326  \n",
       "DILMA 1                 -13.186292  \n",
       "DILMA 2                  -4.272056  \n",
       "TEMER                    13.050123  \n",
       "BOLSONARO 1              14.016991  "
      ]
     },
     "execution_count": 17,
     "metadata": {},
     "output_type": "execute_result"
    }
   ],
   "source": [
    "df_gov_agg['IBOVESPA_D_anual'] = ((1 + df_gov_agg['IBOVESPA_D']/100)**(12./df_gov_agg['Meses']) - 1)*100\n",
    "df_gov_agg['IBOVESPA_D_DEFL_anual'] = ((1 + df_gov_agg['IBOVESPA_D_DEFL']/100)**(12./df_gov_agg['Meses']) - 1)*100\n",
    "df_gov_agg"
   ]
  },
  {
   "cell_type": "markdown",
   "id": "d67496e7",
   "metadata": {},
   "source": [
    "Agora vamos visualizar os dados."
   ]
  },
  {
   "cell_type": "code",
   "execution_count": 18,
   "id": "1ba0b3dc",
   "metadata": {
    "ExecuteTime": {
     "end_time": "2022-10-12T01:15:56.479512Z",
     "start_time": "2022-10-12T01:15:56.314538Z"
    }
   },
   "outputs": [
    {
     "data": {
      "image/png": "[encoded data removed]",
      "text/plain": [
       "<Figure size 720x432 with 1 Axes>"
      ]
     },
     "metadata": {
      "needs_background": "light"
     },
     "output_type": "display_data"
    }
   ],
   "source": [
    "ax = df_gov_agg[['IBOVESPA_D_anual', 'IBOVESPA_D_DEFL_anual']].plot(kind='bar', \n",
    "                                                                      figsize=(10,6),\n",
    "                                                                      title=\"Variação % do IBOVESPA nos Governos Federais\")\n",
    "ax.set_xlabel(\"Governo\")\n",
    "ax.set_ylabel(\"Variação (%)\");"
   ]
  },
  {
   "cell_type": "markdown",
   "id": "3d43430b",
   "metadata": {},
   "source": [
    "<div class=\"alert alert-block alert-info\" style=\"border-radius:15px\">\n",
    "\n",
    "Os dados anualizados produzem uma mudança de escala significativa onde o governo LULA 1 ainda apresenta um retorno execepcional, entretanto o governo TEMER aparece em destaque. O governo FHC 1 continua liderando como pior caso e o impacto da inflação no governo DILMA 2 ganha destaque, Bolsonaro continua a mesma coisa. <p> <br>\n",
    "    \n",
    "    \n",
    "# Conclusão\n",
    "\n",
    "A tabela já apresentava os resultados de maneira clara, mas os gráficos são capazes de tornar a compreensão quase que instantânea. A análise deflacionada nos permiter observar que nos períodos de crescimento a figura não é tão boa assim. É importante ficar claro que o IPCA é uma média muito geral, e a inflação medida localmente varia. Estes resultados podem ser bem piores em algumas capitais.\n",
    "\n",
    "Um gráfico que faltou foi a inflação acumulada em cada período. Vou fazê-la aqui anualizada para facilitar a interpretação.\n",
    "\n",
    "</div>"
   ]
  },
  {
   "cell_type": "code",
   "execution_count": 19,
   "id": "f795d6bb",
   "metadata": {
    "ExecuteTime": {
     "end_time": "2022-10-12T01:16:00.612624Z",
     "start_time": "2022-10-12T01:16:00.474580Z"
    }
   },
   "outputs": [
    {
     "data": {
      "image/png": "[encoded data removed]",
      "text/plain": [
       "<Figure size 720x432 with 1 Axes>"
      ]
     },
     "metadata": {
      "needs_background": "light"
     },
     "output_type": "display_data"
    }
   ],
   "source": [
    "df_infl = df_gov['IPCA'].aggregate(lambda x: 100*(np.prod(1 + x/100)**(12./len(x)) - 1))\n",
    "df_infl = sort_by_governo(df_infl)\n",
    "ax      = df_infl.plot(kind    = 'bar', \n",
    "                       figsize = (10,6),\n",
    "                       title   = \"IPCA nos Governos Federais\")\n",
    "\n",
    "ax.set_xlabel(\"Governo\")\n",
    "ax.set_ylabel(\"IPCA (%)\");"
   ]
  },
  {
   "cell_type": "markdown",
   "id": "a155201e",
   "metadata": {},
   "source": [
    "Fica aí pra ajudar na interpretação dos demais resultados.\n",
    "\n",
    "De qualquer formar vimos que é simples fazer uma análise interessante com Python e apresentar os resultados de forma clara e simples. Este é o poder dos dados abertos! O Quandl é muito bom, mas precisamos de mais ferramentas de dados estrutuados com informações do Brasil."
   ]
  }
 ],
 "metadata": {
  "hide_input": false,
  "kernelspec": {
   "display_name": "Python 3 (ipykernel)",
   "language": "python",
   "name": "python3"
  },
  "language_info": {
   "codemirror_mode": {
    "name": "ipython",
    "version": 3
   },
   "file_extension": ".py",
   "mimetype": "text/x-python",
   "name": "python",
   "nbconvert_exporter": "python",
   "pygments_lexer": "ipython3",
   "version": "3.9.7"
  },
  "nbTranslate": {
   "displayLangs": [
    "en",
    "pt-br"
   ],
   "hotkey": "",
   "langInMainMenu": true,
   "sourceLang": "en",
   "targetLang": "pt-br",
   "useGoogleTranslate": true
  },
  "notify_time": "10",
  "toc": {
   "base_numbering": 1,
   "nav_menu": {},
   "number_sections": false,
   "sideBar": true,
   "skip_h1_title": false,
   "title_cell": "Table of Contents",
   "title_sidebar": "Contents",
   "toc_cell": false,
   "toc_position": {},
   "toc_section_display": true,
   "toc_window_display": false
  }
 },
 "nbformat": 4,
 "nbformat_minor": 5
}
