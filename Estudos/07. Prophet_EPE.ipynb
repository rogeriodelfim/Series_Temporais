{
 "cells": [
  {
   "cell_type": "markdown",
   "metadata": {
    "id": "as6tLI6jYyMk"
   },
   "source": [
    "# **Previsão de Séries Temporais com Prophet**"
   ]
  },
  {
   "cell_type": "markdown",
   "metadata": {
    "id": "9m495jrSY-rD"
   },
   "source": [
    "![image.png](data:image/png;base64,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)"
   ]
  },
  {
   "cell_type": "markdown",
   "metadata": {
    "id": "R7uv9VxoY_vi"
   },
   "source": [
    "Framework desenvolvido em 2017 pelo FACEBOOK para previsão de Séries Temporais, em que, os autores do modelo de previsão Prophet se basearam na decomposição de uma série temporal y(t) em 4 componentes Tendência, Sazonalidade, Feriados e Erro: $y(t) = g(t) + s(t) + h(t) + \\epsilon(t)$\n",
    "\n",
    "- $g(t)$ é a função de tendência que modela mudanças não periódicas no valor da\n",
    "série temporal;\n",
    "\n",
    "- $s(t)$ representa mudanças periódicas (por exemplo, sazonalidade semanal e anual);\n",
    "\n",
    "- $h(t)$ representa os efeitos dos feriados que ocorrem em horários potencialmente irregulares ao longo de um ou mais dias. \n",
    "\n",
    "- $\\epsilon(t)$ representa quaisquer mudanças idiossincráticas que não são acomodadas pelo modelo.\n",
    "\n",
    "O artigo que apresenta toda teoria do modelo de previsão do Prophet pode ser lido no  link https://peerj.com/preprints/3190v2/.\n"
   ]
  },
  {
   "cell_type": "markdown",
   "metadata": {
    "id": "3oAsb1E2abxd"
   },
   "source": [
    "# **Consumo de eletricidade no setor residencial - Empresa de Pesquisa Energética do Brasil (1970 a 2021)**"
   ]
  },
  {
   "cell_type": "markdown",
   "metadata": {
    "id": "VLaLpW0IkBc6"
   },
   "source": [
    "## **Pré-Processamento**"
   ]
  },
  {
   "cell_type": "markdown",
   "metadata": {
    "id": "Hw9LHHQblPBg"
   },
   "source": [
    "### **Preparando o ambiente**"
   ]
  },
  {
   "cell_type": "code",
   "execution_count": 2,
   "metadata": {
    "ExecuteTime": {
     "end_time": "2022-10-09T23:15:51.826936Z",
     "start_time": "2022-10-09T23:15:51.797935Z"
    },
    "id": "SuBKicAPlUGP"
   },
   "outputs": [
    {
     "ename": "ModuleNotFoundError",
     "evalue": "No module named 'fbprophet'",
     "output_type": "error",
     "traceback": [
      "\u001b[1;31m---------------------------------------------------------------------------\u001b[0m",
      "\u001b[1;31mModuleNotFoundError\u001b[0m                       Traceback (most recent call last)",
      "Input \u001b[1;32mIn [2]\u001b[0m, in \u001b[0;36m<cell line: 4>\u001b[1;34m()\u001b[0m\n\u001b[0;32m      2\u001b[0m \u001b[38;5;28;01mimport\u001b[39;00m \u001b[38;5;21;01mpandas\u001b[39;00m \u001b[38;5;28;01mas\u001b[39;00m \u001b[38;5;21;01mpd\u001b[39;00m\n\u001b[0;32m      3\u001b[0m \u001b[38;5;28;01mimport\u001b[39;00m \u001b[38;5;21;01mnumpy\u001b[39;00m \u001b[38;5;28;01mas\u001b[39;00m \u001b[38;5;21;01mnp\u001b[39;00m\n\u001b[1;32m----> 4\u001b[0m \u001b[38;5;28;01mfrom\u001b[39;00m \u001b[38;5;21;01mfbprophet\u001b[39;00m \u001b[38;5;28;01mimport\u001b[39;00m Prophet\n",
      "\u001b[1;31mModuleNotFoundError\u001b[0m: No module named 'fbprophet'"
     ]
    }
   ],
   "source": [
    "# Importando biblioteca necessária\n",
    "import pandas as pd\n",
    "import numpy as np\n",
    "from fbprophet import Prophet"
   ]
  },
  {
   "cell_type": "markdown",
   "metadata": {
    "id": "avsPd5o0YkN_"
   },
   "source": [
    "### **Carregando o conjunto de dados - Empresa de Pesquisa Energética (EPE)**"
   ]
  },
  {
   "cell_type": "markdown",
   "metadata": {
    "id": "zAfw9JQLYx9n"
   },
   "source": [
    "https://www.epe.gov.br/pt/publicacoes-dados-abertos/publicacoes/BEN-Series-Historicas-Completas"
   ]
  },
  {
   "cell_type": "code",
   "execution_count": 2,
   "metadata": {
    "id": "1Vt-NzCaYkOA"
   },
   "outputs": [],
   "source": [
    "# Importando o Pandas\n",
    "import pandas as pd"
   ]
  },
  {
   "cell_type": "code",
   "execution_count": 3,
   "metadata": {
    "ExecuteTime": {
     "end_time": "2022-10-09T23:17:17.422771Z",
     "start_time": "2022-10-09T23:17:16.983309Z"
    },
    "id": "Zuh0f-jSYkOA"
   },
   "outputs": [],
   "source": [
    "# Importando o conjunto de dados do consumo de energia elétrica\n",
    "\n",
    "file = 'https://raw.githubusercontent.com/rogeriodelfim/Dataset/main/EPE/epe_consumo_residencial.csv'\n",
    "epe = pd.read_csv(\n",
    "    filepath_or_buffer = file, \n",
    "    sep=';',\n",
    "    decimal=','\n",
    ")"
   ]
  },
  {
   "cell_type": "markdown",
   "metadata": {
    "id": "A8CeLPCtY5k_"
   },
   "source": [
    "### **Espiando a estrutura dos dados**"
   ]
  },
  {
   "cell_type": "code",
   "execution_count": 4,
   "metadata": {
    "ExecuteTime": {
     "end_time": "2022-10-09T23:17:19.234386Z",
     "start_time": "2022-10-09T23:17:19.210349Z"
    },
    "colab": {
     "base_uri": "https://localhost:8080/",
     "height": 0
    },
    "id": "1rdlclrHY5k_",
    "outputId": "0c47d702-1482-4d07-9c19-06e13cf0745c"
   },
   "outputs": [
    {
     "data": {
      "text/html": [
       "<div><div id=967c1463-8582-4c39-aa3c-395e835b0dc4 style=\"display:none; background-color:#9D6CFF; color:white; width:200px; height:30px; padding-left:5px; border-radius:4px; flex-direction:row; justify-content:space-around; align-items:center;\" onmouseover=\"this.style.backgroundColor='#BA9BF8'\" onmouseout=\"this.style.backgroundColor='#9D6CFF'\" onclick=\"window.commands?.execute('create-mitosheet-from-dataframe-output');\">See Full Dataframe in Mito</div> <script> if (window.commands?.hasCommand('create-mitosheet-from-dataframe-output')) document.getElementById('967c1463-8582-4c39-aa3c-395e835b0dc4').style.display = 'flex' </script> <table border=\"1\" class=\"dataframe\">\n",
       "  <thead>\n",
       "    <tr style=\"text-align: right;\">\n",
       "      <th></th>\n",
       "      <th>ano</th>\n",
       "      <th>gas_natural</th>\n",
       "      <th>lenha</th>\n",
       "      <th>gas_liquefeito_de_petroleo</th>\n",
       "      <th>querosene</th>\n",
       "      <th>gas_canalizado</th>\n",
       "      <th>eletricidade</th>\n",
       "    </tr>\n",
       "  </thead>\n",
       "  <tbody>\n",
       "    <tr>\n",
       "      <th>0</th>\n",
       "      <td>1970</td>\n",
       "      <td>0</td>\n",
       "      <td>19070.388792</td>\n",
       "      <td>1297.406214</td>\n",
       "      <td>447.380478</td>\n",
       "      <td>104.218296</td>\n",
       "      <td>719.390000</td>\n",
       "    </tr>\n",
       "    <tr>\n",
       "      <th>1</th>\n",
       "      <td>1971</td>\n",
       "      <td>0</td>\n",
       "      <td>19058.303628</td>\n",
       "      <td>1393.237355</td>\n",
       "      <td>419.521621</td>\n",
       "      <td>105.947604</td>\n",
       "      <td>793.608000</td>\n",
       "    </tr>\n",
       "    <tr>\n",
       "      <th>2</th>\n",
       "      <td>1972</td>\n",
       "      <td>0</td>\n",
       "      <td>18998.187684</td>\n",
       "      <td>1526.540929</td>\n",
       "      <td>427.715402</td>\n",
       "      <td>106.397424</td>\n",
       "      <td>854.152000</td>\n",
       "    </tr>\n",
       "    <tr>\n",
       "      <th>3</th>\n",
       "      <td>1973</td>\n",
       "      <td>0</td>\n",
       "      <td>18593.489628</td>\n",
       "      <td>1677.659267</td>\n",
       "      <td>466.226176</td>\n",
       "      <td>109.716096</td>\n",
       "      <td>940.721561</td>\n",
       "    </tr>\n",
       "    <tr>\n",
       "      <th>4</th>\n",
       "      <td>1974</td>\n",
       "      <td>0</td>\n",
       "      <td>18376.886304</td>\n",
       "      <td>1775.333314</td>\n",
       "      <td>403.953435</td>\n",
       "      <td>116.353440</td>\n",
       "      <td>1033.720000</td>\n",
       "    </tr>\n",
       "  </tbody>\n",
       "</table></div>"
      ],
      "text/plain": [
       "    ano  gas_natural         lenha  gas_liquefeito_de_petroleo   querosene  \\\n",
       "0  1970            0  19070.388792                 1297.406214  447.380478   \n",
       "1  1971            0  19058.303628                 1393.237355  419.521621   \n",
       "2  1972            0  18998.187684                 1526.540929  427.715402   \n",
       "3  1973            0  18593.489628                 1677.659267  466.226176   \n",
       "4  1974            0  18376.886304                 1775.333314  403.953435   \n",
       "\n",
       "   gas_canalizado  eletricidade  \n",
       "0      104.218296    719.390000  \n",
       "1      105.947604    793.608000  \n",
       "2      106.397424    854.152000  \n",
       "3      109.716096    940.721561  \n",
       "4      116.353440   1033.720000  "
      ]
     },
     "execution_count": 4,
     "metadata": {},
     "output_type": "execute_result"
    }
   ],
   "source": [
    "# Espiando o conjunto de dados\n",
    "epe.head(5)"
   ]
  },
  {
   "cell_type": "code",
   "execution_count": 5,
   "metadata": {
    "ExecuteTime": {
     "end_time": "2022-10-09T23:17:19.874514Z",
     "start_time": "2022-10-09T23:17:19.855479Z"
    },
    "colab": {
     "base_uri": "https://localhost:8080/"
    },
    "id": "cUTQgVsGY5lA",
    "outputId": "3dcbf246-22c0-4546-beb5-51ba05f7cb9e"
   },
   "outputs": [
    {
     "name": "stdout",
     "output_type": "stream",
     "text": [
      "<class 'pandas.core.frame.DataFrame'>\n",
      "RangeIndex: 52 entries, 0 to 51\n",
      "Data columns (total 7 columns):\n",
      " #   Column                      Non-Null Count  Dtype  \n",
      "---  ------                      --------------  -----  \n",
      " 0   ano                         52 non-null     int64  \n",
      " 1   gas_natural                 52 non-null     int64  \n",
      " 2   lenha                       52 non-null     float64\n",
      " 3   gas_liquefeito_de_petroleo  52 non-null     float64\n",
      " 4   querosene                   52 non-null     float64\n",
      " 5   gas_canalizado              52 non-null     float64\n",
      " 6   eletricidade                52 non-null     float64\n",
      "dtypes: float64(5), int64(2)\n",
      "memory usage: 3.0 KB\n"
     ]
    }
   ],
   "source": [
    "# Informacoes gerais do conjunto de dados\n",
    "epe.info(verbose = True)"
   ]
  },
  {
   "cell_type": "markdown",
   "metadata": {
    "id": "zvKWnpBE1e7k"
   },
   "source": [
    "## **Previsão com Prophet**"
   ]
  },
  {
   "cell_type": "markdown",
   "metadata": {
    "id": "aX-VtvAR1sWJ"
   },
   "source": [
    "https://facebook.github.io/prophet/"
   ]
  },
  {
   "cell_type": "markdown",
   "metadata": {
    "id": "biqBbH_h2FHM"
   },
   "source": [
    "Esse framework da Facebook para previsão de séries temporais exige que os dados de entrada seja um dataframe com duas colunas:\n",
    "- **ds**: que significa (datastamp) deve ter um formato de datetime esperado pelo Pandas, preferencialmente no formato AAAA-MM-DD se for somente a data ou AAAA-MM-DD HH:MM:SS se for data e hora. \n",
    "-**y**: deve ter os dados observados nas datas e que se pretende prever, e ser numérica."
   ]
  },
  {
   "cell_type": "markdown",
   "metadata": {
    "id": "T2EixEV4FWmm"
   },
   "source": [
    "### **Transformando o conjunto de dados**"
   ]
  },
  {
   "cell_type": "code",
   "execution_count": 6,
   "metadata": {
    "ExecuteTime": {
     "end_time": "2022-10-09T23:17:22.123409Z",
     "start_time": "2022-10-09T23:17:22.110410Z"
    },
    "id": "AVM79VzG65je"
   },
   "outputs": [],
   "source": [
    "st_eletricidade = pd.DataFrame(\n",
    "    data = {\n",
    "      'ds': pd.date_range(start=\"1970-12-31\",end=\"2021-12-31\",  freq='A'), \n",
    "      'y':epe['eletricidade'].values\n",
    "    }\n",
    ")\n"
   ]
  },
  {
   "cell_type": "code",
   "execution_count": 7,
   "metadata": {
    "ExecuteTime": {
     "end_time": "2022-10-09T23:17:23.188741Z",
     "start_time": "2022-10-09T23:17:23.165701Z"
    },
    "colab": {
     "base_uri": "https://localhost:8080/",
     "height": 206
    },
    "id": "bk9szrmw7B4E",
    "outputId": "da4f4ed0-782d-425b-a613-1f890fd4cf22"
   },
   "outputs": [
    {
     "data": {
      "text/html": [
       "<div><div id=c103ae2e-9ea4-41d9-aa74-1a97a1086534 style=\"display:none; background-color:#9D6CFF; color:white; width:200px; height:30px; padding-left:5px; border-radius:4px; flex-direction:row; justify-content:space-around; align-items:center;\" onmouseover=\"this.style.backgroundColor='#BA9BF8'\" onmouseout=\"this.style.backgroundColor='#9D6CFF'\" onclick=\"window.commands?.execute('create-mitosheet-from-dataframe-output');\">See Full Dataframe in Mito</div> <script> if (window.commands?.hasCommand('create-mitosheet-from-dataframe-output')) document.getElementById('c103ae2e-9ea4-41d9-aa74-1a97a1086534').style.display = 'flex' </script> <table border=\"1\" class=\"dataframe\">\n",
       "  <thead>\n",
       "    <tr style=\"text-align: right;\">\n",
       "      <th></th>\n",
       "      <th>ds</th>\n",
       "      <th>y</th>\n",
       "    </tr>\n",
       "  </thead>\n",
       "  <tbody>\n",
       "    <tr>\n",
       "      <th>0</th>\n",
       "      <td>1970-12-31</td>\n",
       "      <td>719.390000</td>\n",
       "    </tr>\n",
       "    <tr>\n",
       "      <th>1</th>\n",
       "      <td>1971-12-31</td>\n",
       "      <td>793.608000</td>\n",
       "    </tr>\n",
       "    <tr>\n",
       "      <th>2</th>\n",
       "      <td>1972-12-31</td>\n",
       "      <td>854.152000</td>\n",
       "    </tr>\n",
       "    <tr>\n",
       "      <th>3</th>\n",
       "      <td>1973-12-31</td>\n",
       "      <td>940.721561</td>\n",
       "    </tr>\n",
       "    <tr>\n",
       "      <th>4</th>\n",
       "      <td>1974-12-31</td>\n",
       "      <td>1033.720000</td>\n",
       "    </tr>\n",
       "  </tbody>\n",
       "</table></div>"
      ],
      "text/plain": [
       "          ds            y\n",
       "0 1970-12-31   719.390000\n",
       "1 1971-12-31   793.608000\n",
       "2 1972-12-31   854.152000\n",
       "3 1973-12-31   940.721561\n",
       "4 1974-12-31  1033.720000"
      ]
     },
     "execution_count": 7,
     "metadata": {},
     "output_type": "execute_result"
    }
   ],
   "source": [
    "# Espiando o resultado\n",
    "st_eletricidade.head()"
   ]
  },
  {
   "cell_type": "code",
   "execution_count": 8,
   "metadata": {
    "ExecuteTime": {
     "end_time": "2022-10-09T23:17:23.629942Z",
     "start_time": "2022-10-09T23:17:23.613942Z"
    },
    "colab": {
     "base_uri": "https://localhost:8080/"
    },
    "id": "ahvZdUr17om7",
    "outputId": "3dead16c-2ace-4892-cb0f-457899cff8de"
   },
   "outputs": [
    {
     "name": "stdout",
     "output_type": "stream",
     "text": [
      "<class 'pandas.core.frame.DataFrame'>\n",
      "RangeIndex: 52 entries, 0 to 51\n",
      "Data columns (total 2 columns):\n",
      " #   Column  Non-Null Count  Dtype         \n",
      "---  ------  --------------  -----         \n",
      " 0   ds      52 non-null     datetime64[ns]\n",
      " 1   y       52 non-null     float64       \n",
      "dtypes: datetime64[ns](1), float64(1)\n",
      "memory usage: 960.0 bytes\n"
     ]
    }
   ],
   "source": [
    "# Espiando a estrutura serie temporal\n",
    "st_eletricidade.info()"
   ]
  },
  {
   "cell_type": "markdown",
   "metadata": {
    "id": "Bd80yzGJFxAW"
   },
   "source": [
    "### **Dividindo a série entre treino e teste**"
   ]
  },
  {
   "cell_type": "code",
   "execution_count": 9,
   "metadata": {
    "ExecuteTime": {
     "end_time": "2022-10-09T23:17:24.371454Z",
     "start_time": "2022-10-09T23:17:24.349456Z"
    },
    "colab": {
     "base_uri": "https://localhost:8080/"
    },
    "id": "8KQJ1t6XFyAS",
    "outputId": "7e83c458-9487-4348-eaeb-5c4a4cf58f50"
   },
   "outputs": [
    {
     "data": {
      "text/plain": [
       "((49, 2), (3, 2))"
      ]
     },
     "execution_count": 9,
     "metadata": {},
     "output_type": "execute_result"
    }
   ],
   "source": [
    "# Dividindo entre treino e teste\n",
    "st_eletricidade_treino = st_eletricidade.query('ds<=\"2018-12-31\"')\n",
    "st_eletricidade_teste = st_eletricidade.query('ds>\"2018-12-31\"')\n",
    "\n",
    "# Verificando a divisão\n",
    "st_eletricidade_treino.shape , st_eletricidade_teste.shape"
   ]
  },
  {
   "cell_type": "markdown",
   "metadata": {
    "id": "Gr-1aqZrFekV"
   },
   "source": [
    "### **Fazendo a modelagem com o Prophet**"
   ]
  },
  {
   "cell_type": "code",
   "execution_count": 10,
   "metadata": {
    "ExecuteTime": {
     "end_time": "2022-10-09T23:17:25.374627Z",
     "start_time": "2022-10-09T23:17:25.358664Z"
    },
    "id": "5xP-1-RY8F6A"
   },
   "outputs": [
    {
     "ename": "NameError",
     "evalue": "name 'Prophet' is not defined",
     "output_type": "error",
     "traceback": [
      "\u001b[1;31m---------------------------------------------------------------------------\u001b[0m",
      "\u001b[1;31mNameError\u001b[0m                                 Traceback (most recent call last)",
      "Input \u001b[1;32mIn [10]\u001b[0m, in \u001b[0;36m<cell line: 2>\u001b[1;34m()\u001b[0m\n\u001b[0;32m      1\u001b[0m \u001b[38;5;66;03m# Instanciando o modelo\u001b[39;00m\n\u001b[1;32m----> 2\u001b[0m modelo \u001b[38;5;241m=\u001b[39m \u001b[43mProphet\u001b[49m()\n",
      "\u001b[1;31mNameError\u001b[0m: name 'Prophet' is not defined"
     ]
    }
   ],
   "source": [
    "# Instanciando o modelo\n",
    "modelo = Prophet()"
   ]
  },
  {
   "cell_type": "code",
   "execution_count": 11,
   "metadata": {
    "ExecuteTime": {
     "end_time": "2022-10-09T23:17:27.219522Z",
     "start_time": "2022-10-09T23:17:27.198555Z"
    },
    "colab": {
     "base_uri": "https://localhost:8080/"
    },
    "id": "IzTEL9Qa8MYM",
    "outputId": "1f3c9ca2-1a8d-4dac-f1d1-d74b30308694"
   },
   "outputs": [
    {
     "ename": "NameError",
     "evalue": "name 'modelo' is not defined",
     "output_type": "error",
     "traceback": [
      "\u001b[1;31m---------------------------------------------------------------------------\u001b[0m",
      "\u001b[1;31mNameError\u001b[0m                                 Traceback (most recent call last)",
      "Input \u001b[1;32mIn [11]\u001b[0m, in \u001b[0;36m<cell line: 2>\u001b[1;34m()\u001b[0m\n\u001b[0;32m      1\u001b[0m \u001b[38;5;66;03m# Ajustando o modelo aos dados\u001b[39;00m\n\u001b[1;32m----> 2\u001b[0m \u001b[43mmodelo\u001b[49m\u001b[38;5;241m.\u001b[39mfit(st_eletricidade_treino)\n",
      "\u001b[1;31mNameError\u001b[0m: name 'modelo' is not defined"
     ]
    }
   ],
   "source": [
    "# Ajustando o modelo aos dados\n",
    "modelo.fit(st_eletricidade_treino)"
   ]
  },
  {
   "cell_type": "markdown",
   "metadata": {
    "id": "hCK8tNnKeidj"
   },
   "source": [
    "### **Fazendo Previsão com o Prophet**"
   ]
  },
  {
   "cell_type": "code",
   "execution_count": 12,
   "metadata": {
    "ExecuteTime": {
     "end_time": "2022-10-09T23:17:31.045542Z",
     "start_time": "2022-10-09T23:17:31.014534Z"
    },
    "colab": {
     "base_uri": "https://localhost:8080/",
     "height": 206
    },
    "id": "FiudDEVm8hLC",
    "outputId": "0924e31c-c34d-4d38-c0ec-28190db2f6e0"
   },
   "outputs": [
    {
     "ename": "NameError",
     "evalue": "name 'modelo' is not defined",
     "output_type": "error",
     "traceback": [
      "\u001b[1;31m---------------------------------------------------------------------------\u001b[0m",
      "\u001b[1;31mNameError\u001b[0m                                 Traceback (most recent call last)",
      "Input \u001b[1;32mIn [12]\u001b[0m, in \u001b[0;36m<cell line: 2>\u001b[1;34m()\u001b[0m\n\u001b[0;32m      1\u001b[0m \u001b[38;5;66;03m# Criando dataframe com os períodos futuros para as previsões\u001b[39;00m\n\u001b[1;32m----> 2\u001b[0m st_futuro \u001b[38;5;241m=\u001b[39m \u001b[43mmodelo\u001b[49m\u001b[38;5;241m.\u001b[39mmake_future_dataframe(\n\u001b[0;32m      3\u001b[0m     periods\u001b[38;5;241m=\u001b[39m\u001b[38;5;241m3\u001b[39m, \n\u001b[0;32m      4\u001b[0m     freq \u001b[38;5;241m=\u001b[39m \u001b[38;5;124m'\u001b[39m\u001b[38;5;124mA\u001b[39m\u001b[38;5;124m'\u001b[39m, \n\u001b[0;32m      5\u001b[0m     include_history \u001b[38;5;241m=\u001b[39m \u001b[38;5;28;01mTrue\u001b[39;00m\n\u001b[0;32m      6\u001b[0m )\n\u001b[0;32m      8\u001b[0m \u001b[38;5;66;03m# Espiando o df gerado\u001b[39;00m\n\u001b[0;32m      9\u001b[0m st_futuro\u001b[38;5;241m.\u001b[39mtail(\u001b[38;5;241m5\u001b[39m)\n",
      "\u001b[1;31mNameError\u001b[0m: name 'modelo' is not defined"
     ]
    }
   ],
   "source": [
    "# Criando dataframe com os períodos futuros para as previsões\n",
    "st_futuro = modelo.make_future_dataframe(\n",
    "    periods=3, \n",
    "    freq = 'A', \n",
    "    include_history = True\n",
    ")\n",
    "\n",
    "# Espiando o df gerado\n",
    "st_futuro.tail(5)"
   ]
  },
  {
   "cell_type": "code",
   "execution_count": 13,
   "metadata": {
    "ExecuteTime": {
     "end_time": "2022-10-09T23:17:31.497785Z",
     "start_time": "2022-10-09T23:17:31.461750Z"
    },
    "id": "LdpOyIxs9qWT"
   },
   "outputs": [
    {
     "ename": "NameError",
     "evalue": "name 'modelo' is not defined",
     "output_type": "error",
     "traceback": [
      "\u001b[1;31m---------------------------------------------------------------------------\u001b[0m",
      "\u001b[1;31mNameError\u001b[0m                                 Traceback (most recent call last)",
      "Input \u001b[1;32mIn [13]\u001b[0m, in \u001b[0;36m<cell line: 2>\u001b[1;34m()\u001b[0m\n\u001b[0;32m      1\u001b[0m \u001b[38;5;66;03m# Realizando as previsões\u001b[39;00m\n\u001b[1;32m----> 2\u001b[0m previsao_Prophet \u001b[38;5;241m=\u001b[39m \u001b[43mmodelo\u001b[49m\u001b[38;5;241m.\u001b[39mpredict(st_futuro)\n",
      "\u001b[1;31mNameError\u001b[0m: name 'modelo' is not defined"
     ]
    }
   ],
   "source": [
    "# Realizando as previsões\n",
    "previsao_Prophet = modelo.predict(st_futuro)"
   ]
  },
  {
   "cell_type": "code",
   "execution_count": 14,
   "metadata": {
    "ExecuteTime": {
     "end_time": "2022-10-09T23:17:32.991357Z",
     "start_time": "2022-10-09T23:17:32.968354Z"
    },
    "colab": {
     "base_uri": "https://localhost:8080/",
     "height": 441
    },
    "id": "nlqhJvnF-xIk",
    "outputId": "4f2db58d-ebac-48ef-ca56-e30e243e3471"
   },
   "outputs": [
    {
     "ename": "NameError",
     "evalue": "name 'modelo' is not defined",
     "output_type": "error",
     "traceback": [
      "\u001b[1;31m---------------------------------------------------------------------------\u001b[0m",
      "\u001b[1;31mNameError\u001b[0m                                 Traceback (most recent call last)",
      "Input \u001b[1;32mIn [14]\u001b[0m, in \u001b[0;36m<cell line: 2>\u001b[1;34m()\u001b[0m\n\u001b[0;32m      1\u001b[0m \u001b[38;5;66;03m# Fazendo grafico da previsao\u001b[39;00m\n\u001b[1;32m----> 2\u001b[0m grafico_previsao_Prophet \u001b[38;5;241m=\u001b[39m \u001b[43mmodelo\u001b[49m\u001b[38;5;241m.\u001b[39mplot(previsao_Prophet)\n\u001b[0;32m      3\u001b[0m grafico_previsao_Prophet\u001b[38;5;241m.\u001b[39mshow()\n",
      "\u001b[1;31mNameError\u001b[0m: name 'modelo' is not defined"
     ]
    }
   ],
   "source": [
    "# Fazendo grafico da previsao\n",
    "grafico_previsao_Prophet = modelo.plot(previsao_Prophet)\n",
    "grafico_previsao_Prophet.show()"
   ]
  },
  {
   "cell_type": "code",
   "execution_count": 15,
   "metadata": {
    "colab": {
     "base_uri": "https://localhost:8080/",
     "height": 441
    },
    "id": "6EZ2eL8Qftxn",
    "outputId": "c23edb87-324a-4eb7-9369-84d6097077b6"
   },
   "outputs": [
    {
     "data": {
      "image/png": "[encoded data removed]",
      "text/plain": [
       "<Figure size 720x432 with 1 Axes>"
      ]
     },
     "metadata": {},
     "output_type": "display_data"
    }
   ],
   "source": [
    "# Carregando biblioteca necessária\n",
    "import matplotlib.pyplot as plt\n",
    "\n",
    "# Inserindo os dados de teste no grafico da previsao\n",
    "grafico_previsao_Prophet = modelo.plot(previsao_Prophet)\n",
    "plt.plot(st_eletricidade_teste['ds'], st_eletricidade_teste['y'],color='red', label='dados reais de teste', marker = 'o')\n",
    "grafico_previsao_Prophet.show()"
   ]
  },
  {
   "cell_type": "code",
   "execution_count": 16,
   "metadata": {
    "colab": {
     "base_uri": "https://localhost:8080/"
    },
    "id": "Pdtjf_as-Hpg",
    "outputId": "9704e755-584e-4aec-a02c-4d13f7afbb4a"
   },
   "outputs": [
    {
     "name": "stdout",
     "output_type": "stream",
     "text": [
      "<class 'pandas.core.frame.DataFrame'>\n",
      "RangeIndex: 52 entries, 0 to 51\n",
      "Data columns (total 16 columns):\n",
      " #   Column                      Non-Null Count  Dtype         \n",
      "---  ------                      --------------  -----         \n",
      " 0   ds                          52 non-null     datetime64[ns]\n",
      " 1   trend                       52 non-null     float64       \n",
      " 2   yhat_lower                  52 non-null     float64       \n",
      " 3   yhat_upper                  52 non-null     float64       \n",
      " 4   trend_lower                 52 non-null     float64       \n",
      " 5   trend_upper                 52 non-null     float64       \n",
      " 6   additive_terms              52 non-null     float64       \n",
      " 7   additive_terms_lower        52 non-null     float64       \n",
      " 8   additive_terms_upper        52 non-null     float64       \n",
      " 9   yearly                      52 non-null     float64       \n",
      " 10  yearly_lower                52 non-null     float64       \n",
      " 11  yearly_upper                52 non-null     float64       \n",
      " 12  multiplicative_terms        52 non-null     float64       \n",
      " 13  multiplicative_terms_lower  52 non-null     float64       \n",
      " 14  multiplicative_terms_upper  52 non-null     float64       \n",
      " 15  yhat                        52 non-null     float64       \n",
      "dtypes: datetime64[ns](1), float64(15)\n",
      "memory usage: 6.6 KB\n"
     ]
    }
   ],
   "source": [
    "# Entendo a estrutura do df resultante da previsao\n",
    "previsao_Prophet.info()"
   ]
  },
  {
   "cell_type": "code",
   "execution_count": 17,
   "metadata": {
    "colab": {
     "base_uri": "https://localhost:8080/",
     "height": 206
    },
    "id": "Xojporl4-GH7",
    "outputId": "4715d7d8-fed3-48d1-99c8-a3f9e57bf89f"
   },
   "outputs": [
    {
     "data": {
      "text/html": [
       "\n",
       "  <div id=\"df-9c0de5ba-9e26-481b-b407-48edab17e638\">\n",
       "    <div class=\"colab-df-container\">\n",
       "      <div>\n",
       "<style scoped>\n",
       "    .dataframe tbody tr th:only-of-type {\n",
       "        vertical-align: middle;\n",
       "    }\n",
       "\n",
       "    .dataframe tbody tr th {\n",
       "        vertical-align: top;\n",
       "    }\n",
       "\n",
       "    .dataframe thead th {\n",
       "        text-align: right;\n",
       "    }\n",
       "</style>\n",
       "<table border=\"1\" class=\"dataframe\">\n",
       "  <thead>\n",
       "    <tr style=\"text-align: right;\">\n",
       "      <th></th>\n",
       "      <th>ds</th>\n",
       "      <th>yhat</th>\n",
       "      <th>yhat_lower</th>\n",
       "      <th>yhat_upper</th>\n",
       "    </tr>\n",
       "  </thead>\n",
       "  <tbody>\n",
       "    <tr>\n",
       "      <th>47</th>\n",
       "      <td>2017-12-31</td>\n",
       "      <td>11545.188163</td>\n",
       "      <td>11082.132106</td>\n",
       "      <td>12055.210161</td>\n",
       "    </tr>\n",
       "    <tr>\n",
       "      <th>48</th>\n",
       "      <td>2018-12-31</td>\n",
       "      <td>11883.388180</td>\n",
       "      <td>11410.905736</td>\n",
       "      <td>12369.091610</td>\n",
       "    </tr>\n",
       "    <tr>\n",
       "      <th>49</th>\n",
       "      <td>2019-12-31</td>\n",
       "      <td>12249.169222</td>\n",
       "      <td>11727.423352</td>\n",
       "      <td>12720.091499</td>\n",
       "    </tr>\n",
       "    <tr>\n",
       "      <th>50</th>\n",
       "      <td>2020-12-31</td>\n",
       "      <td>12530.806294</td>\n",
       "      <td>12075.814208</td>\n",
       "      <td>13020.996074</td>\n",
       "    </tr>\n",
       "    <tr>\n",
       "      <th>51</th>\n",
       "      <td>2021-12-31</td>\n",
       "      <td>12841.383170</td>\n",
       "      <td>12362.617717</td>\n",
       "      <td>13368.283328</td>\n",
       "    </tr>\n",
       "  </tbody>\n",
       "</table>\n",
       "</div>\n",
       "      <button class=\"colab-df-convert\" onclick=\"convertToInteractive('df-9c0de5ba-9e26-481b-b407-48edab17e638')\"\n",
       "              title=\"Convert this dataframe to an interactive table.\"\n",
       "              style=\"display:none;\">\n",
       "        \n",
       "  <svg xmlns=\"http://www.w3.org/2000/svg\" height=\"24px\"viewBox=\"0 0 24 24\"\n",
       "       width=\"24px\">\n",
       "    <path d=\"M0 0h24v24H0V0z\" fill=\"none\"/>\n",
       "    <path d=\"M18.56 5.44l.94 2.06.94-2.06 2.06-.94-2.06-.94-.94-2.06-.94 2.06-2.06.94zm-11 1L8.5 8.5l.94-2.06 2.06-.94-2.06-.94L8.5 2.5l-.94 2.06-2.06.94zm10 10l.94 2.06.94-2.06 2.06-.94-2.06-.94-.94-2.06-.94 2.06-2.06.94z\"/><path d=\"M17.41 7.96l-1.37-1.37c-.4-.4-.92-.59-1.43-.59-.52 0-1.04.2-1.43.59L10.3 9.45l-7.72 7.72c-.78.78-.78 2.05 0 2.83L4 21.41c.39.39.9.59 1.41.59.51 0 1.02-.2 1.41-.59l7.78-7.78 2.81-2.81c.8-.78.8-2.07 0-2.86zM5.41 20L4 18.59l7.72-7.72 1.47 1.35L5.41 20z\"/>\n",
       "  </svg>\n",
       "      </button>\n",
       "      \n",
       "  <style>\n",
       "    .colab-df-container {\n",
       "      display:flex;\n",
       "      flex-wrap:wrap;\n",
       "      gap: 12px;\n",
       "    }\n",
       "\n",
       "    .colab-df-convert {\n",
       "      background-color: #E8F0FE;\n",
       "      border: none;\n",
       "      border-radius: 50%;\n",
       "      cursor: pointer;\n",
       "      display: none;\n",
       "      fill: #1967D2;\n",
       "      height: 32px;\n",
       "      padding: 0 0 0 0;\n",
       "      width: 32px;\n",
       "    }\n",
       "\n",
       "    .colab-df-convert:hover {\n",
       "      background-color: #E2EBFA;\n",
       "      box-shadow: 0px 1px 2px rgba(60, 64, 67, 0.3), 0px 1px 3px 1px rgba(60, 64, 67, 0.15);\n",
       "      fill: #174EA6;\n",
       "    }\n",
       "\n",
       "    [theme=dark] .colab-df-convert {\n",
       "      background-color: #3B4455;\n",
       "      fill: #D2E3FC;\n",
       "    }\n",
       "\n",
       "    [theme=dark] .colab-df-convert:hover {\n",
       "      background-color: #434B5C;\n",
       "      box-shadow: 0px 1px 3px 1px rgba(0, 0, 0, 0.15);\n",
       "      filter: drop-shadow(0px 1px 2px rgba(0, 0, 0, 0.3));\n",
       "      fill: #FFFFFF;\n",
       "    }\n",
       "  </style>\n",
       "\n",
       "      <script>\n",
       "        const buttonEl =\n",
       "          document.querySelector('#df-9c0de5ba-9e26-481b-b407-48edab17e638 button.colab-df-convert');\n",
       "        buttonEl.style.display =\n",
       "          google.colab.kernel.accessAllowed ? 'block' : 'none';\n",
       "\n",
       "        async function convertToInteractive(key) {\n",
       "          const element = document.querySelector('#df-9c0de5ba-9e26-481b-b407-48edab17e638');\n",
       "          const dataTable =\n",
       "            await google.colab.kernel.invokeFunction('convertToInteractive',\n",
       "                                                     [key], {});\n",
       "          if (!dataTable) return;\n",
       "\n",
       "          const docLinkHtml = 'Like what you see? Visit the ' +\n",
       "            '<a target=\"_blank\" href=https://colab.research.google.com/notebooks/data_table.ipynb>data table notebook</a>'\n",
       "            + ' to learn more about interactive tables.';\n",
       "          element.innerHTML = '';\n",
       "          dataTable['output_type'] = 'display_data';\n",
       "          await google.colab.output.renderOutput(dataTable, element);\n",
       "          const docLink = document.createElement('div');\n",
       "          docLink.innerHTML = docLinkHtml;\n",
       "          element.appendChild(docLink);\n",
       "        }\n",
       "      </script>\n",
       "    </div>\n",
       "  </div>\n",
       "  "
      ],
      "text/plain": [
       "           ds          yhat    yhat_lower    yhat_upper\n",
       "47 2017-12-31  11545.188163  11082.132106  12055.210161\n",
       "48 2018-12-31  11883.388180  11410.905736  12369.091610\n",
       "49 2019-12-31  12249.169222  11727.423352  12720.091499\n",
       "50 2020-12-31  12530.806294  12075.814208  13020.996074\n",
       "51 2021-12-31  12841.383170  12362.617717  13368.283328"
      ]
     },
     "execution_count": 17,
     "metadata": {},
     "output_type": "execute_result"
    }
   ],
   "source": [
    "# Visualizando somente previsoes das ultimas instâncias\n",
    "previsao_Prophet[['ds', 'yhat', 'yhat_lower', 'yhat_upper']].tail()"
   ]
  },
  {
   "cell_type": "markdown",
   "metadata": {
    "id": "b5rTfKdcFj7X"
   },
   "source": [
    "### **Avaliando a qualidade da previsão**"
   ]
  },
  {
   "cell_type": "code",
   "execution_count": 18,
   "metadata": {
    "colab": {
     "base_uri": "https://localhost:8080/"
    },
    "id": "A_znJ3tHIncy",
    "outputId": "234ae145-964a-4051-ba02-52e8d7f2eb1f"
   },
   "outputs": [
    {
     "name": "stdout",
     "output_type": "stream",
     "text": [
      "Prophet: MAE = 140.85513655271947\n",
      "Prophet: RMSE = 168.84838130158994\n"
     ]
    }
   ],
   "source": [
    "## Calculando métrica de avaliação do modelo de previsão\n",
    "## erro médio absoluto (MAE) - meanabs\n",
    "## raiz do erro quadrático médio (RMSE) - rmse\n",
    "\n",
    "# Carregando bibliotecas necessárias\n",
    "from statsmodels.tools.eval_measures import meanabs, rmse\n",
    "\n",
    "# Calculando as métricas para previsão com modelo gerado pelo autorima\n",
    "mae_Prophet = meanabs(st_eletricidade_teste.y.values,previsao_Prophet['yhat'].tail(3).values)\n",
    "rmse_Prophet = rmse(st_eletricidade_teste.y.values,previsao_Prophet['yhat'].tail(3).values)\n",
    "\n",
    "# Verificando as métricas\n",
    "print('Prophet: MAE = {}'.format(mae_Prophet))\n",
    "print('Prophet: RMSE = {}'.format(rmse_Prophet))"
   ]
  },
  {
   "cell_type": "markdown",
   "metadata": {
    "id": "e9xxUeOIP_2S"
   },
   "source": [
    "\n",
    "## **Auto ARIMA**"
   ]
  },
  {
   "cell_type": "markdown",
   "metadata": {
    "id": "6HE-v2tSfgJa"
   },
   "source": [
    "### **Gerando o objeto tipo series com os dados de treino**"
   ]
  },
  {
   "cell_type": "code",
   "execution_count": 19,
   "metadata": {
    "colab": {
     "base_uri": "https://localhost:8080/"
    },
    "id": "qg2aCkh8hHU7",
    "outputId": "4007bf11-c543-410a-b5b2-242c40dfd8d6"
   },
   "outputs": [
    {
     "data": {
      "text/plain": [
       "1970-12-31      719.390000\n",
       "1971-12-31      793.608000\n",
       "1972-12-31      854.152000\n",
       "1973-12-31      940.721561\n",
       "1974-12-31     1033.720000\n",
       "1975-12-31     1136.060000\n",
       "1976-12-31     1279.422000\n",
       "1977-12-31     1473.438000\n",
       "1978-12-31     1629.356000\n",
       "1979-12-31     1807.720000\n",
       "1980-12-31     2000.618000\n",
       "1981-12-31     2154.472000\n",
       "1982-12-31     2328.106000\n",
       "1983-12-31     2557.296000\n",
       "1984-12-31     2659.636000\n",
       "1985-12-31     2806.524000\n",
       "1986-12-31     3074.930000\n",
       "1987-12-31     3300.594000\n",
       "1988-12-31     3485.924000\n",
       "1989-12-31     3760.608000\n",
       "1990-12-31     4185.276000\n",
       "1991-12-31     4389.182000\n",
       "1992-12-31     4460.390000\n",
       "1993-12-31     4612.094000\n",
       "1994-12-31     4811.872000\n",
       "1995-12-31     5467.966000\n",
       "1996-12-31     5938.816000\n",
       "1997-12-31     6370.106000\n",
       "1998-12-31     6826.508000\n",
       "1999-12-31     6991.026000\n",
       "2000-12-31     7190.718000\n",
       "2001-12-31     6344.220000\n",
       "2002-12-31     6256.672000\n",
       "2003-12-31     6548.298000\n",
       "2004-12-31     6757.622000\n",
       "2005-12-31     7154.598000\n",
       "2006-12-31     7379.660000\n",
       "2007-12-31     7815.794638\n",
       "2008-12-31     8220.309805\n",
       "2009-12-31     8654.868000\n",
       "2010-12-31     9220.461620\n",
       "2011-12-31     9629.477276\n",
       "2012-12-31    10117.543060\n",
       "2013-12-31    10741.015343\n",
       "2014-12-31    11377.959100\n",
       "2015-12-31    11282.988613\n",
       "2016-12-31    11428.943214\n",
       "2017-12-31    11561.807010\n",
       "2018-12-31    11851.676107\n",
       "Freq: A-DEC, dtype: float64"
      ]
     },
     "execution_count": 19,
     "metadata": {},
     "output_type": "execute_result"
    }
   ],
   "source": [
    "# Criando a  Serie temporal de treino\n",
    "serie_eletricidade_treino = pd.Series(\n",
    "    data = epe.query('ano<=2018').eletricidade.values, \n",
    "    index = pd.date_range(start=\"1970-12-31\",end=\"2018-12-31\",  freq='A')\n",
    ")\n",
    "\n",
    "# Espiando o resultado\n",
    "serie_eletricidade_treino"
   ]
  },
  {
   "cell_type": "markdown",
   "metadata": {
    "id": "wPqZs3duQsbV"
   },
   "source": [
    "### **Preparando ambiente**"
   ]
  },
  {
   "cell_type": "code",
   "execution_count": 15,
   "metadata": {
    "ExecuteTime": {
     "end_time": "2022-10-09T23:17:46.406681Z",
     "start_time": "2022-10-09T23:17:46.398680Z"
    },
    "colab": {
     "base_uri": "https://localhost:8080/"
    },
    "id": "fkRTakoWLmvg",
    "outputId": "fb5f12cf-1fe4-4ad1-ec11-bc35072cd96d"
   },
   "outputs": [],
   "source": [
    "#Instalando biblioteca necessária\n",
    "#pip install pmdarima"
   ]
  },
  {
   "cell_type": "code",
   "execution_count": 16,
   "metadata": {
    "ExecuteTime": {
     "end_time": "2022-10-09T23:17:48.696709Z",
     "start_time": "2022-10-09T23:17:47.319028Z"
    },
    "id": "POWqK3N0Lpau"
   },
   "outputs": [],
   "source": [
    "# Importando biblioteca necessária\n",
    "import statsmodels.tsa\n",
    "from statsmodels.tsa.arima.model import ARIMA\n",
    "from pmdarima.arima import auto_arima"
   ]
  },
  {
   "cell_type": "markdown",
   "metadata": {
    "id": "_Erailj6DPOV"
   },
   "source": [
    "### **Ajustando Auto ARIMA**"
   ]
  },
  {
   "cell_type": "code",
   "execution_count": 17,
   "metadata": {
    "ExecuteTime": {
     "end_time": "2022-10-09T23:17:51.547295Z",
     "start_time": "2022-10-09T23:17:51.518285Z"
    },
    "colab": {
     "base_uri": "https://localhost:8080/"
    },
    "id": "lMHkG6C2QcnZ",
    "outputId": "764fbc2a-065f-4586-a1cc-777fd80c64d2"
   },
   "outputs": [
    {
     "ename": "NameError",
     "evalue": "name 'serie_eletricidade_treino' is not defined",
     "output_type": "error",
     "traceback": [
      "\u001b[1;31m---------------------------------------------------------------------------\u001b[0m",
      "\u001b[1;31mNameError\u001b[0m                                 Traceback (most recent call last)",
      "Input \u001b[1;32mIn [17]\u001b[0m, in \u001b[0;36m<cell line: 2>\u001b[1;34m()\u001b[0m\n\u001b[0;32m      1\u001b[0m \u001b[38;5;66;03m### AUTOARIMA\u001b[39;00m\n\u001b[0;32m      2\u001b[0m modelo_autoarima \u001b[38;5;241m=\u001b[39m auto_arima(\n\u001b[1;32m----> 3\u001b[0m     \u001b[43mserie_eletricidade_treino\u001b[49m, \n\u001b[0;32m      4\u001b[0m     trace \u001b[38;5;241m=\u001b[39m \u001b[38;5;28;01mTrue\u001b[39;00m, \n\u001b[0;32m      5\u001b[0m     stepwise \u001b[38;5;241m=\u001b[39m \u001b[38;5;28;01mFalse\u001b[39;00m, \n\u001b[0;32m      6\u001b[0m     seasonal\u001b[38;5;241m=\u001b[39m\u001b[38;5;28;01mFalse\u001b[39;00m, \n\u001b[0;32m      7\u001b[0m     with_intercept \u001b[38;5;241m=\u001b[39m \u001b[38;5;28;01mFalse\u001b[39;00m,\n\u001b[0;32m      8\u001b[0m     start_p\u001b[38;5;241m=\u001b[39m\u001b[38;5;241m0\u001b[39m, \n\u001b[0;32m      9\u001b[0m     start_d\u001b[38;5;241m=\u001b[39m\u001b[38;5;241m0\u001b[39m, \n\u001b[0;32m     10\u001b[0m     start_q\u001b[38;5;241m=\u001b[39m\u001b[38;5;241m0\u001b[39m, \n\u001b[0;32m     11\u001b[0m     max_p\u001b[38;5;241m=\u001b[39m\u001b[38;5;241m6\u001b[39m,\n\u001b[0;32m     12\u001b[0m     max_d\u001b[38;5;241m=\u001b[39m\u001b[38;5;241m2\u001b[39m, \n\u001b[0;32m     13\u001b[0m     max_q\u001b[38;5;241m=\u001b[39m\u001b[38;5;241m6\u001b[39m,\n\u001b[0;32m     14\u001b[0m     m\u001b[38;5;241m=\u001b[39m\u001b[38;5;241m1\u001b[39m)\n",
      "\u001b[1;31mNameError\u001b[0m: name 'serie_eletricidade_treino' is not defined"
     ]
    }
   ],
   "source": [
    "### AUTOARIMA\n",
    "modelo_autoarima = auto_arima(\n",
    "    serie_eletricidade_treino, \n",
    "    trace = True, \n",
    "    stepwise = False, \n",
    "    seasonal=False, \n",
    "    with_intercept = False,\n",
    "    start_p=0, \n",
    "    start_d=0, \n",
    "    start_q=0, \n",
    "    max_p=6,\n",
    "    max_d=2, \n",
    "    max_q=6,\n",
    "    m=1)"
   ]
  },
  {
   "cell_type": "markdown",
   "metadata": {
    "id": "c70uMNogQ1RG"
   },
   "source": [
    "### **Realizando Previsões com o autoARIMA**"
   ]
  },
  {
   "cell_type": "code",
   "execution_count": 26,
   "metadata": {
    "colab": {
     "base_uri": "https://localhost:8080/"
    },
    "id": "FrTixsH7PnTs",
    "outputId": "f3009e78-c0c0-4bb3-8d4a-0fd151162709"
   },
   "outputs": [
    {
     "data": {
      "text/plain": [
       "array([12140.29126907, 12402.61035011, 12664.06324643])"
      ]
     },
     "execution_count": 26,
     "metadata": {},
     "output_type": "execute_result"
    }
   ],
   "source": [
    "# # Ajustando o modelo selecionado aos dados e Predizendo 3 períodos\n",
    "previsao_autoarima = modelo_autoarima.fit(serie_eletricidade_treino).predict(n_periods=3)\n",
    "previsao_autoarima"
   ]
  },
  {
   "cell_type": "markdown",
   "metadata": {
    "id": "9laL7z2gQUtI"
   },
   "source": [
    "### **Avaliando a qualidade da previsão do AutoARIMA**"
   ]
  },
  {
   "cell_type": "code",
   "execution_count": 27,
   "metadata": {
    "colab": {
     "base_uri": "https://localhost:8080/"
    },
    "id": "7uIv4RAc9DR9",
    "outputId": "3b8ba563-6fa2-4204-a94e-6f3c44264743"
   },
   "outputs": [
    {
     "name": "stdout",
     "output_type": "stream",
     "text": [
      "AUTOARIMA: MAE = 278.9864099819703\n",
      "AUTOARIMA: RMSE = 295.1249619525393\n"
     ]
    }
   ],
   "source": [
    "## Calculando métrica de avaliação do modelo de previsão\n",
    "## erro médio absoluto (MAE) - meanabs\n",
    "## raiz do erro quadrático médio (RMSE) - rmse\n",
    "\n",
    "# Calculando as métricas para previsão com modelo gerado pelo autorima\n",
    "mae_autoarima = meanabs(st_eletricidade_teste.y.values,previsao_autoarima)\n",
    "rmse_autoarima = rmse(st_eletricidade_teste.y.values,previsao_autoarima)\n",
    "\n",
    "# Verificando as métricas\n",
    "print('AUTOARIMA: MAE = {}'.format(mae_autoarima))\n",
    "print('AUTOARIMA: RMSE = {}'.format(rmse_autoarima))"
   ]
  },
  {
   "cell_type": "markdown",
   "metadata": {
    "id": "R2EDyyFIQIdQ"
   },
   "source": [
    "## **Comparando as predições do Prophet com o AutoARIMA**"
   ]
  },
  {
   "cell_type": "code",
   "execution_count": 35,
   "metadata": {
    "id": "j-T6h5MGe7qn"
   },
   "outputs": [],
   "source": [
    "# Criando a  Serie temporal de previsao do AUTOARIMA\n",
    "st_eletricidade_prev_AUTOARIMA = pd.Series(\n",
    "    data = previsao_autoarima, \n",
    "    index = pd.date_range(start=\"2019-12-31\",end=\"2021-12-31\",  freq='A')\n",
    ")\n",
    "\n",
    "# Criando a  Serie temporal de previsao do Prophet\n",
    "st_eletricidade_prev_Prophet = pd.Series(\n",
    "    data = previsao_Prophet.query('ds>\"2018-12-31\"').yhat.values, \n",
    "    index = pd.date_range(start=\"2019-12-31\",end=\"2021-12-31\",  freq='A')\n",
    ")"
   ]
  },
  {
   "cell_type": "code",
   "execution_count": 36,
   "metadata": {
    "colab": {
     "base_uri": "https://localhost:8080/",
     "height": 374
    },
    "id": "2NZ6wE79SQP9",
    "outputId": "080d921d-5a85-48f4-9af7-6ea6892dc270"
   },
   "outputs": [
    {
     "data": {
      "image/png": "[encoded data removed]",
      "text/plain": [
       "<Figure size 1080x432 with 1 Axes>"
      ]
     },
     "metadata": {
      "needs_background": "light"
     },
     "output_type": "display_data"
    }
   ],
   "source": [
    "# Plotando a série com dados reais e ajustados pelo modelo\n",
    "fig, ax = plt.subplots(figsize = (15,6))\n",
    "plt.plot(st_eletricidade['ds'], st_eletricidade['y'], label='dados reais')\n",
    "plt.plot(st_eletricidade_prev_AUTOARIMA,color='red', label='previsão AUTOARIMA', marker = 'o')\n",
    "plt.plot(st_eletricidade_prev_Prophet ,color='green', label='previsão Prophet', marker = 'o')\n",
    "plt.legend(loc='best')\n",
    "plt.show()"
   ]
  },
  {
   "cell_type": "code",
   "execution_count": 37,
   "metadata": {
    "colab": {
     "base_uri": "https://localhost:8080/",
     "height": 374
    },
    "id": "bWsp50laW1_v",
    "outputId": "52c86faf-ddf4-48a2-f35d-06e3bc803ac3"
   },
   "outputs": [
    {
     "data": {
      "image/png": "[encoded data removed]",
      "text/plain": [
       "<Figure size 1080x432 with 1 Axes>"
      ]
     },
     "metadata": {
      "needs_background": "light"
     },
     "output_type": "display_data"
    }
   ],
   "source": [
    "# Plotando a série com dados reais e ajustados pelo modelo\n",
    "fig, ax = plt.subplots(figsize = (15,6))\n",
    "plt.plot(st_eletricidade_teste['ds'], st_eletricidade_teste['y'], label='dados reais')\n",
    "plt.plot(st_eletricidade_prev_AUTOARIMA,color='red', label='previsão AUTOARIMA', marker = 'o')\n",
    "plt.plot(st_eletricidade_prev_Prophet ,color='green', label='previsão Prophet', marker = 'o')\n",
    "plt.legend(loc='best')\n",
    "plt.show()"
   ]
  },
  {
   "cell_type": "code",
   "execution_count": 38,
   "metadata": {
    "colab": {
     "base_uri": "https://localhost:8080/"
    },
    "id": "V2j0jSyxR5gg",
    "outputId": "c6f0bb46-2b64-4d21-8ad5-b2cbc860973a"
   },
   "outputs": [
    {
     "name": "stdout",
     "output_type": "stream",
     "text": [
      "Comparando os Erros Médios Absolutos\n",
      "AUTOARIMA: MAE = 278.9864099819703\n",
      "Prophet: MAE = 140.85513655271947\n",
      "\n",
      " Comparando as Raízes dos Erros Quadráticos Médios\n",
      "AUTOARIMA: RMSE = 295.1249619525393\n",
      "Prophet: RMSE = 168.84838130158994\n"
     ]
    }
   ],
   "source": [
    "# Verificando as métricas\n",
    "print('Comparando os Erros Médios Absolutos')\n",
    "print('AUTOARIMA: MAE = {}'.format(mae_autoarima))\n",
    "print('Prophet: MAE = {}'.format(mae_Prophet))\n",
    "\n",
    "print('\\n Comparando as Raízes dos Erros Quadráticos Médios')\n",
    "print('AUTOARIMA: RMSE = {}'.format(rmse_autoarima))\n",
    "print('Prophet: RMSE = {}'.format(rmse_Prophet))"
   ]
  },
  {
   "cell_type": "code",
   "execution_count": 39,
   "metadata": {
    "colab": {
     "base_uri": "https://localhost:8080/",
     "height": 441
    },
    "id": "RYDVGq1PNbTD",
    "outputId": "55d6f984-42cb-499d-ae21-cebc4d5ba492"
   },
   "outputs": [
    {
     "data": {
      "image/png": "[encoded data removed]",
      "text/plain": [
       "<Figure size 720x432 with 1 Axes>"
      ]
     },
     "metadata": {},
     "output_type": "display_data"
    }
   ],
   "source": [
    "# Carregando biblioteca necessária\n",
    "import matplotlib.pyplot as plt\n",
    "\n",
    "# Inserindo os dados de teste no grafico da previsao\n",
    "grafico_previsao_Prophet = modelo.plot(previsao_Prophet)\n",
    "plt.plot(st_eletricidade_teste['ds'], st_eletricidade_teste['y'],color='red', label='dados reais de teste', marker = 'o')\n",
    "grafico_previsao_Prophet.show()"
   ]
  }
 ],
 "metadata": {
  "colab": {
   "collapsed_sections": [
    "3oAsb1E2abxd",
    "VLaLpW0IkBc6",
    "Hw9LHHQblPBg",
    "avsPd5o0YkN_",
    "A8CeLPCtY5k_",
    "zvKWnpBE1e7k",
    "T2EixEV4FWmm",
    "Bd80yzGJFxAW",
    "6HE-v2tSfgJa",
    "wPqZs3duQsbV",
    "_Erailj6DPOV",
    "c70uMNogQ1RG",
    "9laL7z2gQUtI"
   ],
   "name": "DDS_Flai_Series_Temporais_Prophet_EPE.ipynb",
   "provenance": []
  },
  "hide_input": false,
  "kernelspec": {
   "display_name": "Python 3 (ipykernel)",
   "language": "python",
   "name": "python3"
  },
  "language_info": {
   "codemirror_mode": {
    "name": "ipython",
    "version": 3
   },
   "file_extension": ".py",
   "mimetype": "text/x-python",
   "name": "python",
   "nbconvert_exporter": "python",
   "pygments_lexer": "ipython3",
   "version": "3.9.7"
  },
  "nbTranslate": {
   "displayLangs": [
    "en",
    "pt-br"
   ],
   "hotkey": "",
   "langInMainMenu": true,
   "sourceLang": "en",
   "targetLang": "pt-br",
   "useGoogleTranslate": true
  },
  "toc": {
   "base_numbering": 1,
   "nav_menu": {},
   "number_sections": false,
   "sideBar": true,
   "skip_h1_title": false,
   "title_cell": "Table of Contents",
   "title_sidebar": "Contents",
   "toc_cell": false,
   "toc_position": {},
   "toc_section_display": true,
   "toc_window_display": false
  }
 },
 "nbformat": 4,
 "nbformat_minor": 1
}
