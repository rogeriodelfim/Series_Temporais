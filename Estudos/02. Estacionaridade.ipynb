{
 "cells": [
  {
   "cell_type": "markdown",
   "metadata": {
    "id": "wDM4C7qRevy8"
   },
   "source": [
    "# **Séries Temporais**"
   ]
  },
  {
   "cell_type": "markdown",
   "metadata": {
    "id": "QgkmGkUAey0I"
   },
   "source": [
    "# **Testando estacionariedade de uma série estacionária simulada**"
   ]
  },
  {
   "cell_type": "code",
   "execution_count": 1,
   "metadata": {
    "ExecuteTime": {
     "end_time": "2022-10-09T02:13:42.372898Z",
     "start_time": "2022-10-09T02:13:42.105840Z"
    },
    "id": "m0qAjDojfjjS"
   },
   "outputs": [],
   "source": [
    "# Importando bibliotecas necessárias\n",
    "import numpy as np\n",
    "import pandas as pd\n",
    "import matplotlib.pyplot as plt"
   ]
  },
  {
   "cell_type": "markdown",
   "metadata": {
    "id": "Afc3ovt6ljrI"
   },
   "source": [
    "### **Simulando a série**"
   ]
  },
  {
   "cell_type": "code",
   "execution_count": 2,
   "metadata": {
    "ExecuteTime": {
     "end_time": "2022-10-09T02:13:47.209791Z",
     "start_time": "2022-10-09T02:13:47.176787Z"
    },
    "colab": {
     "base_uri": "https://localhost:8080/",
     "height": 206
    },
    "id": "gLtYnA1bhG8q",
    "outputId": "7218c840-7a41-473d-8e46-398259047eed"
   },
   "outputs": [
    {
     "data": {
      "text/html": [
       "<div><div id=3e5aeb39-b225-482b-a322-1d4ef67057c0 style=\"display:none; background-color:#9D6CFF; color:white; width:200px; height:30px; padding-left:5px; border-radius:4px; flex-direction:row; justify-content:space-around; align-items:center;\" onmouseover=\"this.style.backgroundColor='#BA9BF8'\" onmouseout=\"this.style.backgroundColor='#9D6CFF'\" onclick=\"window.commands?.execute('create-mitosheet-from-dataframe-output');\">See Full Dataframe in Mito</div> <script> if (window.commands?.hasCommand('create-mitosheet-from-dataframe-output')) document.getElementById('3e5aeb39-b225-482b-a322-1d4ef67057c0').style.display = 'flex' </script> <table border=\"1\" class=\"dataframe\">\n",
       "  <thead>\n",
       "    <tr style=\"text-align: right;\">\n",
       "      <th></th>\n",
       "      <th>valores</th>\n",
       "    </tr>\n",
       "  </thead>\n",
       "  <tbody>\n",
       "    <tr>\n",
       "      <th>0</th>\n",
       "      <td>-0.276768</td>\n",
       "    </tr>\n",
       "    <tr>\n",
       "      <th>1</th>\n",
       "      <td>0.581851</td>\n",
       "    </tr>\n",
       "    <tr>\n",
       "      <th>2</th>\n",
       "      <td>2.148399</td>\n",
       "    </tr>\n",
       "    <tr>\n",
       "      <th>3</th>\n",
       "      <td>-1.279487</td>\n",
       "    </tr>\n",
       "    <tr>\n",
       "      <th>4</th>\n",
       "      <td>0.502277</td>\n",
       "    </tr>\n",
       "  </tbody>\n",
       "</table></div>"
      ],
      "text/plain": [
       "    valores\n",
       "0 -0.276768\n",
       "1  0.581851\n",
       "2  2.148399\n",
       "3 -1.279487\n",
       "4  0.502277"
      ]
     },
     "execution_count": 2,
     "metadata": {},
     "output_type": "execute_result"
    }
   ],
   "source": [
    "# Definindo uma semente\n",
    "np.random.seed(2018)\n",
    "\n",
    "# Simulando valores da série\n",
    "dados = pd.DataFrame(data = np.random.normal(0,1,27), columns=['valores'])\n",
    "\n",
    "# Espiando o resultado\n",
    "dados.head()"
   ]
  },
  {
   "cell_type": "code",
   "execution_count": 3,
   "metadata": {
    "ExecuteTime": {
     "end_time": "2022-10-09T02:13:49.452295Z",
     "start_time": "2022-10-09T02:13:49.431296Z"
    },
    "colab": {
     "base_uri": "https://localhost:8080/"
    },
    "id": "PPRhOyp6fpl5",
    "outputId": "3c88da6e-0e23-4e26-d73c-6c4cf89955ac"
   },
   "outputs": [
    {
     "data": {
      "text/plain": [
       "DatetimeIndex(['1995-12-31', '1996-12-31', '1997-12-31', '1998-12-31',\n",
       "               '1999-12-31', '2000-12-31', '2001-12-31', '2002-12-31',\n",
       "               '2003-12-31', '2004-12-31', '2005-12-31', '2006-12-31',\n",
       "               '2007-12-31', '2008-12-31', '2009-12-31', '2010-12-31',\n",
       "               '2011-12-31', '2012-12-31', '2013-12-31', '2014-12-31',\n",
       "               '2015-12-31', '2016-12-31', '2017-12-31', '2018-12-31',\n",
       "               '2019-12-31', '2020-12-31', '2021-12-31'],\n",
       "              dtype='datetime64[ns]', freq='A-DEC')"
      ]
     },
     "execution_count": 3,
     "metadata": {},
     "output_type": "execute_result"
    }
   ],
   "source": [
    "# Criando o índice\n",
    "indice = pd.date_range(\n",
    "    start='1995', \n",
    "    periods = len(dados), \n",
    "    freq = 'Y'\n",
    ")\n",
    "\n",
    "# Espiando os índices gerados\n",
    "indice"
   ]
  },
  {
   "cell_type": "code",
   "execution_count": 4,
   "metadata": {
    "ExecuteTime": {
     "end_time": "2022-10-09T02:13:50.311721Z",
     "start_time": "2022-10-09T02:13:50.303729Z"
    },
    "colab": {
     "base_uri": "https://localhost:8080/"
    },
    "id": "eU7tuWtPgeNA",
    "outputId": "d713baac-ab7f-4634-df32-0b8ce6991cde"
   },
   "outputs": [
    {
     "data": {
      "text/plain": [
       "1995-12-31   -0.276768\n",
       "1996-12-31    0.581851\n",
       "1997-12-31    2.148399\n",
       "1998-12-31   -1.279487\n",
       "1999-12-31    0.502277\n",
       "2000-12-31    0.856029\n",
       "2001-12-31   -0.142790\n",
       "2002-12-31    0.110079\n",
       "2003-12-31   -0.688065\n",
       "2004-12-31    0.433564\n",
       "2005-12-31    0.510221\n",
       "2006-12-31   -0.165131\n",
       "2007-12-31   -1.351779\n",
       "2008-12-31    0.546631\n",
       "2009-12-31    1.230655\n",
       "2010-12-31    1.076446\n",
       "2011-12-31   -1.210625\n",
       "2012-12-31   -0.306677\n",
       "2013-12-31   -1.057419\n",
       "2014-12-31    0.402057\n",
       "2015-12-31    0.289165\n",
       "2016-12-31    1.282733\n",
       "2017-12-31   -1.065696\n",
       "2018-12-31   -1.706633\n",
       "2019-12-31   -0.172797\n",
       "2020-12-31    0.063710\n",
       "2021-12-31    0.370628\n",
       "Freq: A-DEC, dtype: float64"
      ]
     },
     "execution_count": 4,
     "metadata": {},
     "output_type": "execute_result"
    }
   ],
   "source": [
    "# Criando a  Serie temporal\n",
    "serie_simulada = pd.Series(\n",
    "    data = dados['valores'].values, \n",
    "    index = indice\n",
    ")\n",
    "\n",
    "# Espiando o resultado\n",
    "serie_simulada"
   ]
  },
  {
   "cell_type": "markdown",
   "metadata": {
    "id": "mhgtDyTClqYH"
   },
   "source": [
    "### **Análise descritiva da Série**"
   ]
  },
  {
   "cell_type": "code",
   "execution_count": 5,
   "metadata": {
    "ExecuteTime": {
     "end_time": "2022-10-09T02:13:51.865765Z",
     "start_time": "2022-10-09T02:13:51.807422Z"
    },
    "colab": {
     "base_uri": "https://localhost:8080/"
    },
    "id": "ZlkSrF7Ij57q",
    "outputId": "6588c5d8-b880-4d1a-8993-000bf173fd00"
   },
   "outputs": [
    {
     "data": {
      "text/plain": [
       "count    27.000000\n",
       "mean      0.036318\n",
       "std       0.923752\n",
       "min      -1.706633\n",
       "25%      -0.497371\n",
       "50%       0.110079\n",
       "75%       0.528426\n",
       "max       2.148399\n",
       "dtype: float64"
      ]
     },
     "execution_count": 5,
     "metadata": {},
     "output_type": "execute_result"
    }
   ],
   "source": [
    "# Gerando algumas estatísticas desta série\n",
    "serie_simulada.describe()"
   ]
  },
  {
   "cell_type": "markdown",
   "metadata": {
    "id": "9mjKemMHpqzk"
   },
   "source": [
    "### **Visualização da Série**"
   ]
  },
  {
   "cell_type": "code",
   "execution_count": 6,
   "metadata": {
    "ExecuteTime": {
     "end_time": "2022-10-09T02:13:53.779236Z",
     "start_time": "2022-10-09T02:13:53.535237Z"
    },
    "colab": {
     "base_uri": "https://localhost:8080/",
     "height": 390
    },
    "id": "Tn4lvF9qiKq_",
    "outputId": "c062d228-ad3e-4fd1-f0f9-a52bf5583511"
   },
   "outputs": [
    {
     "data": {
      "image/png": "[encoded data removed]",
      "text/plain": [
       "<Figure size 720x432 with 1 Axes>"
      ]
     },
     "metadata": {
      "needs_background": "light"
     },
     "output_type": "display_data"
    }
   ],
   "source": [
    "# Gerando o gráfico\n",
    "serie_simulada.plot(\n",
    "    title = 'Série com valores simulados de uma normal (0,1), 1995-2021.',\n",
    "    figsize =(10, 6)\n",
    ")\n",
    "\n",
    "# Inserindo uma linha horizontal com a média dos dados\n",
    "plt.axhline (y=serie_simulada.mean(), color = 'red', linestyle = '--')\n",
    "\n",
    "# Definindo intervalo do eixo\n",
    "plt.ylim((-3,3))\n",
    "\n",
    "# Exibindo o gráfico\n",
    "plt.show()"
   ]
  },
  {
   "cell_type": "markdown",
   "metadata": {
    "id": "cR2hClGkluoo"
   },
   "source": [
    "### **Teste de estacionaridade - (Dickey Fuller)**"
   ]
  },
  {
   "cell_type": "markdown",
   "metadata": {
    "id": "NMZwIIeslyMi"
   },
   "source": [
    "- **Hipótese nula (Ho):** a série *não é estacionária*\n",
    "- **Hipótese Alternativa (Ha):** a série *é estacionária*"
   ]
  },
  {
   "cell_type": "code",
   "execution_count": 7,
   "metadata": {
    "ExecuteTime": {
     "end_time": "2022-10-09T02:13:57.971209Z",
     "start_time": "2022-10-09T02:13:57.119617Z"
    },
    "id": "TponeJiFmjjQ"
   },
   "outputs": [],
   "source": [
    "# Importando biblioteca necessária\n",
    "import statsmodels.tsa.stattools"
   ]
  },
  {
   "cell_type": "code",
   "execution_count": 8,
   "metadata": {
    "ExecuteTime": {
     "end_time": "2022-10-09T02:13:58.001975Z",
     "start_time": "2022-10-09T02:13:57.973061Z"
    },
    "colab": {
     "base_uri": "https://localhost:8080/"
    },
    "id": "VYjJSovdmnOw",
    "outputId": "4cec8e0f-17d6-4ab7-86c3-c2aee9dc8834"
   },
   "outputs": [
    {
     "name": "stdout",
     "output_type": "stream",
     "text": [
      "Estatítica do teste: -5.0356\n",
      "p-valor do teste: 0.00001886\n",
      "Valores Críticos:\n",
      "1%: -3.7377\n",
      "5%: -2.9922\n",
      "10%: -2.6357\n"
     ]
    }
   ],
   "source": [
    "# Calculando as medidas do teste Dickey Fuller\n",
    "df = statsmodels.tsa.stattools.adfuller(serie_simulada)\n",
    "\n",
    "print('Estatítica do teste: {:.4f}'.format(df[0]))\n",
    "print('p-valor do teste: {:.8f}'.format(df[1]))\n",
    "print('Valores Críticos:')\n",
    "for chave, valor in df[4].items():\n",
    "   print('{}: {:.4f}'.format(chave, valor))"
   ]
  },
  {
   "cell_type": "markdown",
   "metadata": {
    "id": "Xs4Co1cQo_KR"
   },
   "source": [
    "Como a estatística do teste é menor que o valor crítico podemos considerar que existem evidências suficientes para rejeitar a hipótese nula, ou seja, existem evidências, a nível de 1% de significância de que a série é estacionária."
   ]
  },
  {
   "cell_type": "markdown",
   "metadata": {
    "id": "yeRLWtVqusOz"
   },
   "source": [
    "# **Testando estacionariedade da Série de óbitos por covid-19 no Brasil de mar/2021 a mar/2022**"
   ]
  },
  {
   "cell_type": "markdown",
   "metadata": {
    "id": "9dzQL2JIusPS"
   },
   "source": [
    "### **Carregando o conjunto de dados**"
   ]
  },
  {
   "cell_type": "code",
   "execution_count": 9,
   "metadata": {
    "ExecuteTime": {
     "end_time": "2022-10-09T02:15:23.760824Z",
     "start_time": "2022-10-09T02:15:22.791680Z"
    },
    "id": "Y73CdL4IusPT"
   },
   "outputs": [],
   "source": [
    "# Importando o conjunto de dados\n",
    "file = ''\n",
    "covid = pd.read_csv(\n",
    "    filepath_or_buffer = 'https://raw.githubusercontent.com/jonates/opendata/master/covid19_brasil/cases-brazil-states.csv', \n",
    "    sep=',',\n",
    "    decimal='.'\n",
    ")"
   ]
  },
  {
   "cell_type": "code",
   "execution_count": 10,
   "metadata": {
    "ExecuteTime": {
     "end_time": "2022-10-09T02:15:23.792625Z",
     "start_time": "2022-10-09T02:15:23.763582Z"
    },
    "colab": {
     "base_uri": "https://localhost:8080/"
    },
    "id": "svLybahOOZT8",
    "outputId": "0f661cb3-4898-4bdb-bea9-831f2849f5c3"
   },
   "outputs": [
    {
     "name": "stdout",
     "output_type": "stream",
     "text": [
      "<class 'pandas.core.frame.DataFrame'>\n",
      "RangeIndex: 5596 entries, 0 to 5595\n",
      "Data columns (total 14 columns):\n",
      " #   Column                           Non-Null Count  Dtype  \n",
      "---  ------                           --------------  -----  \n",
      " 0   country                          5596 non-null   object \n",
      " 1   state                            5596 non-null   object \n",
      " 2   city                             5596 non-null   object \n",
      " 3   ibgeID                           5596 non-null   int64  \n",
      " 4   deaths                           5596 non-null   int64  \n",
      " 5   totalCases                       5596 non-null   int64  \n",
      " 6   deaths_per_100k_inhabitants      5596 non-null   float64\n",
      " 7   totalCases_per_100k_inhabitants  5596 non-null   float64\n",
      " 8   deaths_by_totalCases             5596 non-null   float64\n",
      " 9   _source                          5596 non-null   object \n",
      " 10  date                             5596 non-null   object \n",
      " 11  newCases                         5596 non-null   int64  \n",
      " 12  newDeaths                        5596 non-null   int64  \n",
      " 13  last_info_date                   5596 non-null   object \n",
      "dtypes: float64(3), int64(5), object(6)\n",
      "memory usage: 612.2+ KB\n"
     ]
    }
   ],
   "source": [
    "covid.info()"
   ]
  },
  {
   "cell_type": "markdown",
   "metadata": {
    "id": "8JM910AUqGlM"
   },
   "source": [
    "### **Transformando o conjunto de dados**"
   ]
  },
  {
   "cell_type": "code",
   "execution_count": 11,
   "metadata": {
    "ExecuteTime": {
     "end_time": "2022-10-09T02:15:25.056970Z",
     "start_time": "2022-10-09T02:15:25.046969Z"
    },
    "id": "Kn-C03UokFft"
   },
   "outputs": [],
   "source": [
    "# Transformando o atributo 'data' em datetime\n",
    "covid['date'] = pd.to_datetime(covid['date'], infer_datetime_format=True)"
   ]
  },
  {
   "cell_type": "code",
   "execution_count": 12,
   "metadata": {
    "ExecuteTime": {
     "end_time": "2022-10-09T02:15:25.758280Z",
     "start_time": "2022-10-09T02:15:25.728233Z"
    },
    "colab": {
     "base_uri": "https://localhost:8080/",
     "height": 386
    },
    "id": "7DmTZz3dkKZs",
    "outputId": "6b96662a-dbf3-4153-bbeb-6f593fa13ddf"
   },
   "outputs": [
    {
     "data": {
      "text/html": [
       "<div><div id=925fff76-e42e-4a97-b1ca-4bfe9b967aeb style=\"display:none; background-color:#9D6CFF; color:white; width:200px; height:30px; padding-left:5px; border-radius:4px; flex-direction:row; justify-content:space-around; align-items:center;\" onmouseover=\"this.style.backgroundColor='#BA9BF8'\" onmouseout=\"this.style.backgroundColor='#9D6CFF'\" onclick=\"window.commands?.execute('create-mitosheet-from-dataframe-output');\">See Full Dataframe in Mito</div> <script> if (window.commands?.hasCommand('create-mitosheet-from-dataframe-output')) document.getElementById('925fff76-e42e-4a97-b1ca-4bfe9b967aeb').style.display = 'flex' </script> <table border=\"1\" class=\"dataframe\">\n",
       "  <thead>\n",
       "    <tr style=\"text-align: right;\">\n",
       "      <th></th>\n",
       "      <th>country</th>\n",
       "      <th>state</th>\n",
       "      <th>city</th>\n",
       "      <th>ibgeID</th>\n",
       "      <th>deaths</th>\n",
       "      <th>totalCases</th>\n",
       "      <th>deaths_per_100k_inhabitants</th>\n",
       "      <th>totalCases_per_100k_inhabitants</th>\n",
       "      <th>deaths_by_totalCases</th>\n",
       "      <th>_source</th>\n",
       "      <th>date</th>\n",
       "      <th>newCases</th>\n",
       "      <th>newDeaths</th>\n",
       "      <th>last_info_date</th>\n",
       "    </tr>\n",
       "  </thead>\n",
       "  <tbody>\n",
       "    <tr>\n",
       "      <th>0</th>\n",
       "      <td>Brazil</td>\n",
       "      <td>GO</td>\n",
       "      <td>Abadia de Goiás/GO</td>\n",
       "      <td>5200050</td>\n",
       "      <td>48</td>\n",
       "      <td>3679</td>\n",
       "      <td>524.13191</td>\n",
       "      <td>40172.52675</td>\n",
       "      <td>0.01305</td>\n",
       "      <td>MS</td>\n",
       "      <td>2022-08-11</td>\n",
       "      <td>0</td>\n",
       "      <td>0</td>\n",
       "      <td>2022-08-11</td>\n",
       "    </tr>\n",
       "    <tr>\n",
       "      <th>1</th>\n",
       "      <td>Brazil</td>\n",
       "      <td>MG</td>\n",
       "      <td>Abadia dos Dourados/MG</td>\n",
       "      <td>3100104</td>\n",
       "      <td>20</td>\n",
       "      <td>1801</td>\n",
       "      <td>284.81914</td>\n",
       "      <td>25647.96354</td>\n",
       "      <td>0.01110</td>\n",
       "      <td>MS</td>\n",
       "      <td>2022-08-11</td>\n",
       "      <td>0</td>\n",
       "      <td>0</td>\n",
       "      <td>2022-08-11</td>\n",
       "    </tr>\n",
       "    <tr>\n",
       "      <th>2</th>\n",
       "      <td>Brazil</td>\n",
       "      <td>GO</td>\n",
       "      <td>Abadiânia/GO</td>\n",
       "      <td>5200100</td>\n",
       "      <td>55</td>\n",
       "      <td>1911</td>\n",
       "      <td>263.49830</td>\n",
       "      <td>9155.36818</td>\n",
       "      <td>0.02878</td>\n",
       "      <td>MS</td>\n",
       "      <td>2022-08-11</td>\n",
       "      <td>0</td>\n",
       "      <td>0</td>\n",
       "      <td>2022-08-11</td>\n",
       "    </tr>\n",
       "    <tr>\n",
       "      <th>3</th>\n",
       "      <td>Brazil</td>\n",
       "      <td>PA</td>\n",
       "      <td>Abaetetuba/PA</td>\n",
       "      <td>1500107</td>\n",
       "      <td>239</td>\n",
       "      <td>10749</td>\n",
       "      <td>148.96627</td>\n",
       "      <td>6699.74258</td>\n",
       "      <td>0.02223</td>\n",
       "      <td>MS</td>\n",
       "      <td>2022-08-11</td>\n",
       "      <td>0</td>\n",
       "      <td>0</td>\n",
       "      <td>2022-08-11</td>\n",
       "    </tr>\n",
       "    <tr>\n",
       "      <th>4</th>\n",
       "      <td>Brazil</td>\n",
       "      <td>MG</td>\n",
       "      <td>Abaeté/MG</td>\n",
       "      <td>3100203</td>\n",
       "      <td>50</td>\n",
       "      <td>3858</td>\n",
       "      <td>214.93359</td>\n",
       "      <td>16584.27546</td>\n",
       "      <td>0.01296</td>\n",
       "      <td>MS</td>\n",
       "      <td>2022-08-11</td>\n",
       "      <td>0</td>\n",
       "      <td>0</td>\n",
       "      <td>2022-08-11</td>\n",
       "    </tr>\n",
       "  </tbody>\n",
       "</table></div>"
      ],
      "text/plain": [
       "  country state                    city   ibgeID  deaths  totalCases  \\\n",
       "0  Brazil    GO      Abadia de Goiás/GO  5200050      48        3679   \n",
       "1  Brazil    MG  Abadia dos Dourados/MG  3100104      20        1801   \n",
       "2  Brazil    GO            Abadiânia/GO  5200100      55        1911   \n",
       "3  Brazil    PA           Abaetetuba/PA  1500107     239       10749   \n",
       "4  Brazil    MG               Abaeté/MG  3100203      50        3858   \n",
       "\n",
       "   deaths_per_100k_inhabitants  totalCases_per_100k_inhabitants  \\\n",
       "0                    524.13191                      40172.52675   \n",
       "1                    284.81914                      25647.96354   \n",
       "2                    263.49830                       9155.36818   \n",
       "3                    148.96627                       6699.74258   \n",
       "4                    214.93359                      16584.27546   \n",
       "\n",
       "   deaths_by_totalCases _source       date  newCases  newDeaths last_info_date  \n",
       "0               0.01305      MS 2022-08-11         0          0     2022-08-11  \n",
       "1               0.01110      MS 2022-08-11         0          0     2022-08-11  \n",
       "2               0.02878      MS 2022-08-11         0          0     2022-08-11  \n",
       "3               0.02223      MS 2022-08-11         0          0     2022-08-11  \n",
       "4               0.01296      MS 2022-08-11         0          0     2022-08-11  "
      ]
     },
     "execution_count": 12,
     "metadata": {},
     "output_type": "execute_result"
    }
   ],
   "source": [
    "# Espiando o conjunto de dados\n",
    "covid.head()"
   ]
  },
  {
   "cell_type": "code",
   "execution_count": 13,
   "metadata": {
    "ExecuteTime": {
     "end_time": "2022-10-09T02:15:26.384158Z",
     "start_time": "2022-10-09T02:15:26.360158Z"
    },
    "id": "dn_kuqE2klZy"
   },
   "outputs": [],
   "source": [
    "# Calculando a população baseado\n",
    "covid['population'] = covid['totalCases'] \\\n",
    "                  .div(covid['totalCases_per_100k_inhabitants'])\\\n",
    "                  .mul(100000)"
   ]
  },
  {
   "cell_type": "code",
   "execution_count": 14,
   "metadata": {
    "ExecuteTime": {
     "end_time": "2022-10-09T02:15:26.838400Z",
     "start_time": "2022-10-09T02:15:26.831414Z"
    },
    "id": "xZk88cG2ke5z"
   },
   "outputs": [],
   "source": [
    "# Calculando a taxa de mortalidade\n",
    "covid['newDeaths_per_100k_inhabitants'] = covid['newDeaths']\\\n",
    "  .div(covid['population'])\\\n",
    "  .mul(100000)"
   ]
  },
  {
   "cell_type": "code",
   "execution_count": 15,
   "metadata": {
    "ExecuteTime": {
     "end_time": "2022-10-09T02:15:27.289953Z",
     "start_time": "2022-10-09T02:15:27.270955Z"
    },
    "id": "IjjAXiOIkcnr"
   },
   "outputs": [],
   "source": [
    "# Filtrando somente os resultado para TOTAL do Brasil\n",
    "covid_BR = covid.query('state==\"TOTAL\"')"
   ]
  },
  {
   "cell_type": "code",
   "execution_count": 16,
   "metadata": {
    "ExecuteTime": {
     "end_time": "2022-10-09T02:15:27.775671Z",
     "start_time": "2022-10-09T02:15:27.766636Z"
    },
    "colab": {
     "base_uri": "https://localhost:8080/",
     "height": 206
    },
    "id": "Sg1rUDNLusPU",
    "outputId": "9f9fdb8c-e113-44c3-cbf5-a3fe9bc737f2"
   },
   "outputs": [
    {
     "data": {
      "text/html": [
       "<div><div id=6a594f49-c302-4831-838f-67795d49ff0b style=\"display:none; background-color:#9D6CFF; color:white; width:200px; height:30px; padding-left:5px; border-radius:4px; flex-direction:row; justify-content:space-around; align-items:center;\" onmouseover=\"this.style.backgroundColor='#BA9BF8'\" onmouseout=\"this.style.backgroundColor='#9D6CFF'\" onclick=\"window.commands?.execute('create-mitosheet-from-dataframe-output');\">See Full Dataframe in Mito</div> <script> if (window.commands?.hasCommand('create-mitosheet-from-dataframe-output')) document.getElementById('6a594f49-c302-4831-838f-67795d49ff0b').style.display = 'flex' </script> <table border=\"1\" class=\"dataframe\">\n",
       "  <thead>\n",
       "    <tr style=\"text-align: right;\">\n",
       "      <th></th>\n",
       "      <th>date</th>\n",
       "      <th>newDeaths_per_100k_inhabitants</th>\n",
       "    </tr>\n",
       "  </thead>\n",
       "  <tbody>\n",
       "  </tbody>\n",
       "</table></div>"
      ],
      "text/plain": [
       "Empty DataFrame\n",
       "Columns: [date, newDeaths_per_100k_inhabitants]\n",
       "Index: []"
      ]
     },
     "execution_count": 16,
     "metadata": {},
     "output_type": "execute_result"
    }
   ],
   "source": [
    "covid_BR[['date','newDeaths_per_100k_inhabitants']].head()"
   ]
  },
  {
   "cell_type": "code",
   "execution_count": 17,
   "metadata": {
    "ExecuteTime": {
     "end_time": "2022-10-09T02:15:28.403950Z",
     "start_time": "2022-10-09T02:15:28.390913Z"
    },
    "colab": {
     "base_uri": "https://localhost:8080/"
    },
    "id": "TZi-N2EPusPV",
    "outputId": "ad1d80f5-9283-47f4-a625-0bb5c11f6295"
   },
   "outputs": [
    {
     "data": {
      "text/plain": [
       "Series([], dtype: float64)"
      ]
     },
     "execution_count": 17,
     "metadata": {},
     "output_type": "execute_result"
    }
   ],
   "source": [
    "# Criando a  Serie temporal\n",
    "serie_obitos_covid_BR = pd.Series(\n",
    "    data = covid_BR['newDeaths_per_100k_inhabitants'].values, \n",
    "    index = covid_BR['date'].values\n",
    ")\n",
    "\n",
    "# Espiando o resultado\n",
    "serie_obitos_covid_BR"
   ]
  },
  {
   "cell_type": "markdown",
   "metadata": {
    "id": "31Hb3GG-usPW"
   },
   "source": [
    "### **Visualização da Série**"
   ]
  },
  {
   "cell_type": "code",
   "execution_count": 18,
   "metadata": {
    "ExecuteTime": {
     "end_time": "2022-10-09T02:15:30.225498Z",
     "start_time": "2022-10-09T02:15:30.103252Z"
    },
    "colab": {
     "base_uri": "https://localhost:8080/",
     "height": 404
    },
    "id": "bl5tI_luusPW",
    "outputId": "c6f80519-8198-4f63-fb44-da822e2c1d12"
   },
   "outputs": [
    {
     "data": {
      "image/png": "[encoded data removed]",
      "text/plain": [
       "<Figure size 720x432 with 1 Axes>"
      ]
     },
     "metadata": {
      "needs_background": "light"
     },
     "output_type": "display_data"
    }
   ],
   "source": [
    "# Gerando o gráfico\n",
    "serie_obitos_covid_BR.plot(\n",
    "    title = 'Óbitos por 100 mil habitantes por covid-19, Brasil, mar/2020 - mar/2022.',\n",
    "    figsize =(10, 6)\n",
    ")\n",
    "\n",
    "# Exibindo o gráfico\n",
    "plt.show()"
   ]
  },
  {
   "cell_type": "markdown",
   "metadata": {
    "id": "w5KMRlp_usPW"
   },
   "source": [
    "### **Teste de estacionaridade - (Dickey Fuller)**"
   ]
  },
  {
   "cell_type": "markdown",
   "metadata": {
    "id": "jVnpREnzusPX"
   },
   "source": [
    "- **Hipótese nula (Ho):** a série *não é estacionária*\n",
    "- **Hipótese Alternativa (Ha):** a série *é estacionária*"
   ]
  },
  {
   "cell_type": "code",
   "execution_count": 69,
   "metadata": {
    "id": "NEaFO5pKusPX"
   },
   "outputs": [],
   "source": [
    "# Importando biblioteca necessária\n",
    "import statsmodels.tsa.stattools"
   ]
  },
  {
   "cell_type": "code",
   "execution_count": 70,
   "metadata": {
    "colab": {
     "base_uri": "https://localhost:8080/"
    },
    "id": "JmoLvCQ-usPX",
    "outputId": "e76102c0-bcbb-4740-e953-d38b41450905"
   },
   "outputs": [
    {
     "name": "stdout",
     "output_type": "stream",
     "text": [
      "Estatítica do teste: -1.9175\n",
      "p-valor do teste: 0.32387512\n",
      "Valores Críticos:\n",
      "1%: -3.4392\n",
      "5%: -2.8654\n",
      "10%: -2.5688\n"
     ]
    }
   ],
   "source": [
    "# Calculando as medidas do teste Dickey Fuller\n",
    "df = statsmodels.tsa.stattools.adfuller(serie_obitos_covid_BR)\n",
    "\n",
    "print('Estatítica do teste: {:.4f}'.format(df[0]))\n",
    "print('p-valor do teste: {:.8f}'.format(df[1]))\n",
    "print('Valores Críticos:')\n",
    "for chave, valor in df[4].items():\n",
    "   print('{}: {:.4f}'.format(chave, valor))"
   ]
  },
  {
   "cell_type": "markdown",
   "metadata": {
    "id": "CIZXxhXuusPY"
   },
   "source": [
    "Como a estatística do teste é maior que o valor crítico podemos considerar que NÃO existem evidências suficientes para rejeitar a hipótese nula, ou seja, a nível de 1% de significância NÃO existe evidências de que a série é estacionária."
   ]
  },
  {
   "cell_type": "markdown",
   "metadata": {
    "id": "-ef2w71Gnznw"
   },
   "source": [
    "# **Testando estacionariedade da Série de óbitos por covid-19 na Bahia de dez/2020 a jan/2021**"
   ]
  },
  {
   "cell_type": "markdown",
   "metadata": {
    "id": "08ebJtXsnzn9"
   },
   "source": [
    "### **Transformando o conjunto de dados**"
   ]
  },
  {
   "cell_type": "code",
   "execution_count": 80,
   "metadata": {
    "id": "DRYuNmRHnzn-"
   },
   "outputs": [],
   "source": [
    "# Filtrando somente os resultado para Bahia\n",
    "covid_BA = covid.query('state==\"BA\"')"
   ]
  },
  {
   "cell_type": "code",
   "execution_count": 81,
   "metadata": {
    "colab": {
     "base_uri": "https://localhost:8080/",
     "height": 206
    },
    "id": "w9K5vW23nzn_",
    "outputId": "1e4ff797-e204-4f80-bc01-1b07db38d81c"
   },
   "outputs": [
    {
     "data": {
      "text/html": [
       "\n",
       "  <div id=\"df-00a3bbe1-44a6-49fc-bee4-abe4c6b997e0\">\n",
       "    <div class=\"colab-df-container\">\n",
       "      <div>\n",
       "<style scoped>\n",
       "    .dataframe tbody tr th:only-of-type {\n",
       "        vertical-align: middle;\n",
       "    }\n",
       "\n",
       "    .dataframe tbody tr th {\n",
       "        vertical-align: top;\n",
       "    }\n",
       "\n",
       "    .dataframe thead th {\n",
       "        text-align: right;\n",
       "    }\n",
       "</style>\n",
       "<table border=\"1\" class=\"dataframe\">\n",
       "  <thead>\n",
       "    <tr style=\"text-align: right;\">\n",
       "      <th></th>\n",
       "      <th>date</th>\n",
       "      <th>newDeaths_per_100k_inhabitants</th>\n",
       "    </tr>\n",
       "  </thead>\n",
       "  <tbody>\n",
       "    <tr>\n",
       "      <th>21</th>\n",
       "      <td>2020-03-06</td>\n",
       "      <td>0.0</td>\n",
       "    </tr>\n",
       "    <tr>\n",
       "      <th>26</th>\n",
       "      <td>2020-03-07</td>\n",
       "      <td>0.0</td>\n",
       "    </tr>\n",
       "    <tr>\n",
       "      <th>33</th>\n",
       "      <td>2020-03-08</td>\n",
       "      <td>0.0</td>\n",
       "    </tr>\n",
       "    <tr>\n",
       "      <th>41</th>\n",
       "      <td>2020-03-09</td>\n",
       "      <td>0.0</td>\n",
       "    </tr>\n",
       "    <tr>\n",
       "      <th>49</th>\n",
       "      <td>2020-03-10</td>\n",
       "      <td>0.0</td>\n",
       "    </tr>\n",
       "  </tbody>\n",
       "</table>\n",
       "</div>\n",
       "      <button class=\"colab-df-convert\" onclick=\"convertToInteractive('df-00a3bbe1-44a6-49fc-bee4-abe4c6b997e0')\"\n",
       "              title=\"Convert this dataframe to an interactive table.\"\n",
       "              style=\"display:none;\">\n",
       "        \n",
       "  <svg xmlns=\"http://www.w3.org/2000/svg\" height=\"24px\"viewBox=\"0 0 24 24\"\n",
       "       width=\"24px\">\n",
       "    <path d=\"M0 0h24v24H0V0z\" fill=\"none\"/>\n",
       "    <path d=\"M18.56 5.44l.94 2.06.94-2.06 2.06-.94-2.06-.94-.94-2.06-.94 2.06-2.06.94zm-11 1L8.5 8.5l.94-2.06 2.06-.94-2.06-.94L8.5 2.5l-.94 2.06-2.06.94zm10 10l.94 2.06.94-2.06 2.06-.94-2.06-.94-.94-2.06-.94 2.06-2.06.94z\"/><path d=\"M17.41 7.96l-1.37-1.37c-.4-.4-.92-.59-1.43-.59-.52 0-1.04.2-1.43.59L10.3 9.45l-7.72 7.72c-.78.78-.78 2.05 0 2.83L4 21.41c.39.39.9.59 1.41.59.51 0 1.02-.2 1.41-.59l7.78-7.78 2.81-2.81c.8-.78.8-2.07 0-2.86zM5.41 20L4 18.59l7.72-7.72 1.47 1.35L5.41 20z\"/>\n",
       "  </svg>\n",
       "      </button>\n",
       "      \n",
       "  <style>\n",
       "    .colab-df-container {\n",
       "      display:flex;\n",
       "      flex-wrap:wrap;\n",
       "      gap: 12px;\n",
       "    }\n",
       "\n",
       "    .colab-df-convert {\n",
       "      background-color: #E8F0FE;\n",
       "      border: none;\n",
       "      border-radius: 50%;\n",
       "      cursor: pointer;\n",
       "      display: none;\n",
       "      fill: #1967D2;\n",
       "      height: 32px;\n",
       "      padding: 0 0 0 0;\n",
       "      width: 32px;\n",
       "    }\n",
       "\n",
       "    .colab-df-convert:hover {\n",
       "      background-color: #E2EBFA;\n",
       "      box-shadow: 0px 1px 2px rgba(60, 64, 67, 0.3), 0px 1px 3px 1px rgba(60, 64, 67, 0.15);\n",
       "      fill: #174EA6;\n",
       "    }\n",
       "\n",
       "    [theme=dark] .colab-df-convert {\n",
       "      background-color: #3B4455;\n",
       "      fill: #D2E3FC;\n",
       "    }\n",
       "\n",
       "    [theme=dark] .colab-df-convert:hover {\n",
       "      background-color: #434B5C;\n",
       "      box-shadow: 0px 1px 3px 1px rgba(0, 0, 0, 0.15);\n",
       "      filter: drop-shadow(0px 1px 2px rgba(0, 0, 0, 0.3));\n",
       "      fill: #FFFFFF;\n",
       "    }\n",
       "  </style>\n",
       "\n",
       "      <script>\n",
       "        const buttonEl =\n",
       "          document.querySelector('#df-00a3bbe1-44a6-49fc-bee4-abe4c6b997e0 button.colab-df-convert');\n",
       "        buttonEl.style.display =\n",
       "          google.colab.kernel.accessAllowed ? 'block' : 'none';\n",
       "\n",
       "        async function convertToInteractive(key) {\n",
       "          const element = document.querySelector('#df-00a3bbe1-44a6-49fc-bee4-abe4c6b997e0');\n",
       "          const dataTable =\n",
       "            await google.colab.kernel.invokeFunction('convertToInteractive',\n",
       "                                                     [key], {});\n",
       "          if (!dataTable) return;\n",
       "\n",
       "          const docLinkHtml = 'Like what you see? Visit the ' +\n",
       "            '<a target=\"_blank\" href=https://colab.research.google.com/notebooks/data_table.ipynb>data table notebook</a>'\n",
       "            + ' to learn more about interactive tables.';\n",
       "          element.innerHTML = '';\n",
       "          dataTable['output_type'] = 'display_data';\n",
       "          await google.colab.output.renderOutput(dataTable, element);\n",
       "          const docLink = document.createElement('div');\n",
       "          docLink.innerHTML = docLinkHtml;\n",
       "          element.appendChild(docLink);\n",
       "        }\n",
       "      </script>\n",
       "    </div>\n",
       "  </div>\n",
       "  "
      ],
      "text/plain": [
       "         date  newDeaths_per_100k_inhabitants\n",
       "21 2020-03-06                             0.0\n",
       "26 2020-03-07                             0.0\n",
       "33 2020-03-08                             0.0\n",
       "41 2020-03-09                             0.0\n",
       "49 2020-03-10                             0.0"
      ]
     },
     "execution_count": 81,
     "metadata": {},
     "output_type": "execute_result"
    }
   ],
   "source": [
    "# Espiando a Serie da Bahia\n",
    "covid_BA[['date','newDeaths_per_100k_inhabitants']].head()"
   ]
  },
  {
   "cell_type": "code",
   "execution_count": 82,
   "metadata": {
    "colab": {
     "base_uri": "https://localhost:8080/"
    },
    "id": "s3WhcssBnzn_",
    "outputId": "194e3810-010f-474a-e8ab-960ff14d29ae"
   },
   "outputs": [
    {
     "data": {
      "text/plain": [
       "2020-03-06    0.000000\n",
       "2020-03-07    0.000000\n",
       "2020-03-08    0.000000\n",
       "2020-03-09    0.000000\n",
       "2020-03-10    0.000000\n",
       "                ...   \n",
       "2022-03-27    0.006724\n",
       "2022-03-28    0.094130\n",
       "2022-03-29    0.107577\n",
       "2022-03-30    0.080683\n",
       "2022-03-31    0.087406\n",
       "Length: 756, dtype: float64"
      ]
     },
     "execution_count": 82,
     "metadata": {},
     "output_type": "execute_result"
    }
   ],
   "source": [
    "# Criando a  Serie temporal\n",
    "serie_covid_BA = pd.Series(\n",
    "    data = covid_BA['newDeaths_per_100k_inhabitants'].values, \n",
    "    index = covid_BA['date'].values\n",
    ")\n",
    "\n",
    "# Espiando o resultado\n",
    "serie_covid_BA"
   ]
  },
  {
   "cell_type": "markdown",
   "metadata": {
    "id": "ZlrobJ8Nnzn_"
   },
   "source": [
    "### **Visualizando a Série**"
   ]
  },
  {
   "cell_type": "code",
   "execution_count": 83,
   "metadata": {
    "colab": {
     "base_uri": "https://localhost:8080/",
     "height": 404
    },
    "id": "UQmIFA8Xnzn_",
    "outputId": "192ffacc-530d-45b4-af02-33a0238ddb45"
   },
   "outputs": [
    {
     "data": {
      "image/png": "[encoded data removed]",
      "text/plain": [
       "<Figure size 720x432 with 1 Axes>"
      ]
     },
     "metadata": {
      "needs_background": "light"
     },
     "output_type": "display_data"
    }
   ],
   "source": [
    "# Gerando o gráfico\n",
    "serie_covid_BA.plot(\n",
    "    title = 'Óbitos por 100 mil habitantes, Bahia, mar/2020 - mar/2022.',\n",
    "    figsize =(10, 6)\n",
    ")\n",
    "\n",
    "# Exibindo o gráfico\n",
    "plt.show()"
   ]
  },
  {
   "cell_type": "markdown",
   "metadata": {
    "id": "JCQaQ9XAqai8"
   },
   "source": [
    "### **Selecionando somente o período de set a dez de 2021**"
   ]
  },
  {
   "cell_type": "code",
   "execution_count": 84,
   "metadata": {
    "id": "44gzWHctJfqI"
   },
   "outputs": [],
   "source": [
    "# Filtrando somente os resultado para Bahia entre out e nov de 2021\n",
    "covid_BA_dez20_jan21 = covid_BA\\\n",
    "                        .query('date>\"2020-12-15\"')\\\n",
    "                        .query('date<\"2021-01-15\"')"
   ]
  },
  {
   "cell_type": "code",
   "execution_count": 85,
   "metadata": {
    "colab": {
     "base_uri": "https://localhost:8080/"
    },
    "id": "R3SH00TKq8Rn",
    "outputId": "ebc54e0b-1b7e-4d9b-ba88-a222b8d81176"
   },
   "outputs": [
    {
     "data": {
      "text/plain": [
       "2020-12-16    0.174813\n",
       "2020-12-17    0.194983\n",
       "2020-12-18    0.188260\n",
       "2020-12-19    0.194983\n",
       "2020-12-20    0.201707\n",
       "2020-12-21    0.188260\n",
       "2020-12-22    0.201707\n",
       "2020-12-23    0.188260\n",
       "2020-12-24    0.208430\n",
       "2020-12-25    0.201707\n",
       "2020-12-26    0.194983\n",
       "2020-12-27    0.188260\n",
       "2020-12-28    0.201707\n",
       "2020-12-29    0.208430\n",
       "2020-12-30    0.188260\n",
       "2020-12-31    0.194983\n",
       "2021-01-01    0.201707\n",
       "2021-01-02    0.188260\n",
       "2021-01-03    0.208430\n",
       "2021-01-04    0.188260\n",
       "2021-01-05    0.201707\n",
       "2021-01-06    0.188260\n",
       "2021-01-07    0.194983\n",
       "2021-01-08    0.208430\n",
       "2021-01-09    0.188260\n",
       "2021-01-10    0.215154\n",
       "2021-01-11    0.194983\n",
       "2021-01-12    0.181536\n",
       "2021-01-13    0.215154\n",
       "2021-01-14    0.208430\n",
       "dtype: float64"
      ]
     },
     "execution_count": 85,
     "metadata": {},
     "output_type": "execute_result"
    }
   ],
   "source": [
    "# Criando a  Serie temporal\n",
    "serie_covid_BA_dez20_jan21 = pd.Series(\n",
    "    data = covid_BA_dez20_jan21['newDeaths_per_100k_inhabitants'].values, \n",
    "    index = covid_BA_dez20_jan21['date'].values\n",
    ")\n",
    "\n",
    "# Espiando o resultado\n",
    "serie_covid_BA_dez20_jan21"
   ]
  },
  {
   "cell_type": "markdown",
   "metadata": {
    "id": "KSuOTdC6qhna"
   },
   "source": [
    "### **Visualizando a nova Série de out a nov de 2021**"
   ]
  },
  {
   "cell_type": "code",
   "execution_count": 86,
   "metadata": {
    "colab": {
     "base_uri": "https://localhost:8080/",
     "height": 427
    },
    "id": "g_ZApYw-rEB2",
    "outputId": "1546fc79-6f47-4845-b799-0e7b91fbf41c"
   },
   "outputs": [
    {
     "data": {
      "image/png": "[encoded data removed]",
      "text/plain": [
       "<Figure size 720x432 with 1 Axes>"
      ]
     },
     "metadata": {
      "needs_background": "light"
     },
     "output_type": "display_data"
    }
   ],
   "source": [
    "# Gerando o gráfico\n",
    "serie_covid_BA_dez20_jan21.plot(\n",
    "    title = 'Óbitos por 100 mil habitantes, Bahia, out/2021 - nov/2021.',\n",
    "    figsize =(10, 6)\n",
    ")\n",
    "\n",
    "# Inserindo uma linha horizontal com a média dos dados\n",
    "plt.axhline(\n",
    "    y=serie_covid_BA_dez20_jan21.mean(), \n",
    "    color = 'red', \n",
    "    linestyle = '--'\n",
    ")\n",
    "\n",
    "# Exibindo o gráfico\n",
    "plt.show()"
   ]
  },
  {
   "cell_type": "markdown",
   "metadata": {
    "id": "nUqZclfunzoA"
   },
   "source": [
    "### **Teste de estacionaridade - (Dickey Fuller)**"
   ]
  },
  {
   "cell_type": "markdown",
   "metadata": {
    "id": "s8R3YBUAnzoA"
   },
   "source": [
    "- **Hipótese nula (Ho):** a série *não é estacionária*\n",
    "- **Hipótese Alternativa (Ha):** a série *é estacionária*"
   ]
  },
  {
   "cell_type": "code",
   "execution_count": 87,
   "metadata": {
    "colab": {
     "base_uri": "https://localhost:8080/"
    },
    "id": "7zJwIylZnzoA",
    "outputId": "1c96a26e-186f-48d4-ad28-e001f7c9e437"
   },
   "outputs": [
    {
     "name": "stdout",
     "output_type": "stream",
     "text": [
      "Estatítica do teste: -5.0230\n",
      "p-valor do teste: 0.00001998\n",
      "Valores Críticos:\n",
      "1%: -3.6889\n",
      "5%: -2.9720\n",
      "10%: -2.6253\n"
     ]
    }
   ],
   "source": [
    "# Calculando as medidas do teste Dickey Fuller\n",
    "df = statsmodels.tsa.stattools.adfuller(serie_covid_BA_dez20_jan21)\n",
    "\n",
    "print('Estatítica do teste: {:.4f}'.format(df[0]))\n",
    "print('p-valor do teste: {:.8f}'.format(df[1]))\n",
    "print('Valores Críticos:')\n",
    "for chave, valor in df[4].items():\n",
    "   print('{}: {:.4f}'.format(chave, valor))"
   ]
  },
  {
   "cell_type": "markdown",
   "metadata": {
    "id": "e6BAqyZ0nzoA"
   },
   "source": [
    "Como a estatística do teste é menor que o valor crítico podemos considerar que existem evidências suficientes para rejeitar a hipótese nula, ou seja, existem evidências, a nível de 1% de significância de que a série é estacionária."
   ]
  }
 ],
 "metadata": {
  "colab": {
   "collapsed_sections": [],
   "name": "DDS_Flai_Series_Temporais_estacionaridade.ipynb",
   "provenance": []
  },
  "hide_input": false,
  "kernelspec": {
   "display_name": "Python 3 (ipykernel)",
   "language": "python",
   "name": "python3"
  },
  "language_info": {
   "codemirror_mode": {
    "name": "ipython",
    "version": 3
   },
   "file_extension": ".py",
   "mimetype": "text/x-python",
   "name": "python",
   "nbconvert_exporter": "python",
   "pygments_lexer": "ipython3",
   "version": "3.9.7"
  },
  "nbTranslate": {
   "displayLangs": [
    "en",
    "pt-br"
   ],
   "hotkey": "",
   "langInMainMenu": true,
   "sourceLang": "en",
   "targetLang": "pt-br",
   "useGoogleTranslate": true
  },
  "toc": {
   "base_numbering": 1,
   "nav_menu": {},
   "number_sections": false,
   "sideBar": true,
   "skip_h1_title": false,
   "title_cell": "Table of Contents",
   "title_sidebar": "Contents",
   "toc_cell": false,
   "toc_position": {},
   "toc_section_display": true,
   "toc_window_display": false
  }
 },
 "nbformat": 4,
 "nbformat_minor": 1
}
